{
 "cells": [
  {
   "cell_type": "code",
   "execution_count": 1,
   "metadata": {},
   "outputs": [
    {
     "name": "stderr",
     "output_type": "stream",
     "text": [
      "/Users/atticusw/opt/anaconda3/lib/python3.9/site-packages/gym/envs/registration.py:307: DeprecationWarning: The package name gym_minigrid has been deprecated in favor of minigrid. Please uninstall gym_minigrid and install minigrid with `pip install minigrid`. Future releases will be maintained under the new package name minigrid.\n",
      "  fn()\n"
     ]
    }
   ],
   "source": [
    "import torch\n",
    "import torch.nn as nn\n",
    "from torch.distributions.categorical import Categorical\n",
    "import torch.nn.functional as F\n",
    "import gym_minigrid\n",
    "import numpy as np\n",
    "import matplotlib.pyplot as plt\n",
    "import gym\n",
    "from tqdm.notebook import tqdm\n",
    "from gym_minigrid.envs.doorkey import DoorKeyEnv\n",
    "from gym.envs.registration import registry, register\n",
    "import pandas as pd\n",
    "import random\n",
    "from tqdm import tqdm\n",
    "from typing_extensions import Self\n",
    "import matplotlib.pyplot as plt\n",
    "\n",
    "# rc('animation', html='jshtml')"
   ]
  },
  {
   "cell_type": "code",
   "execution_count": 6,
   "metadata": {},
   "outputs": [
    {
     "name": "stdout",
     "output_type": "stream",
     "text": [
      "cpu\n"
     ]
    }
   ],
   "source": [
    "if torch.cuda.is_available():\n",
    "    DEVICE = torch.device(\"cuda\")\n",
    "# elif torch.backends.mps.is_available():\n",
    "#     DEVICE = torch.device(\"mps\")\n",
    "else:\n",
    "    DEVICE = torch.device(\"cpu\")\n",
    "\n",
    "print(DEVICE)\n",
    "\n",
    "class Config:\n",
    "    \"\"\"\n",
    "    Stores algorithmic hyperparameters.\n",
    "    \"\"\"\n",
    "    def __init__(self,\n",
    "                score_threshold=0.93,\n",
    "                discount=0.995,\n",
    "                lr=1e-3,\n",
    "                max_grad_norm=0.5,\n",
    "                log_interval=10,\n",
    "                max_episodes=2000,\n",
    "                gae_lambda=0.95,\n",
    "                use_critic=True,\n",
    "                clip_ratio=0.2,\n",
    "                target_kl=0.01,\n",
    "                fit_badly_coeff=0.05,\n",
    "                train_ac_iters=5,\n",
    "                use_discounted_reward=False,\n",
    "                entropy_coef=0.01,\n",
    "                use_gae=True,\n",
    "                my_var=0):\n",
    "\n",
    "        self.score_threshold = score_threshold # criterion for early stopping. If the rolling average reward (over the last 100 episodes) is greater than it, it ends.\n",
    "        self.discount = discount # discount factor\n",
    "        self.lr = lr # learning rate\n",
    "        self.max_grad_norm = max_grad_norm # the maximum gradient norm (https://pytorch.org/docs/stable/generated/torch.nn.utils.clip_grad_norm_.html)\n",
    "        self.log_interval = log_interval # logging interval\n",
    "        self.max_episodes = max_episodes # the maximum number of episodes.\n",
    "        self.use_critic = use_critic # whether to use critic or not.\n",
    "        self.clip_ratio = clip_ratio # clip_ratio of PPO.\n",
    "        self.target_kl = target_kl # target KL divergence for early stoping train_ac_iters for PPO\n",
    "        self.fit_badly_coeff = fit_badly_coeff # the bound of approx. KL of when the model fits badly to the data.\n",
    "        self.train_ac_iters = train_ac_iters # how many time to train ac_model using current computed old_logps\n",
    "        self.gae_lambda=gae_lambda # lambda in Generalized Advantage Estimation (GAE)\n",
    "        self.use_discounted_reward=use_discounted_reward # whether use discounted reward or not.\n",
    "        self.entropy_coef = entropy_coef # entropy coefficient for PPO\n",
    "        self.use_gae = use_gae # whether to use GAE or not.\n",
    "        self.my_var = my_var # a variable for testing purposes."
   ]
  },
  {
   "cell_type": "code",
   "execution_count": 3,
   "metadata": {},
   "outputs": [],
   "source": [
    "# Function from https://github.com/ikostrikov/pytorch-a2c-ppo-acktr/blob/master/model.py\n",
    "def init_params(m):\n",
    "    \"\"\"\n",
    "    Initialize parameters of the network.\n",
    "    m: torch.nn.Module\n",
    "    \"\"\"\n",
    "    classname = m.__class__.__name__\n",
    "    if classname.find(\"Linear\") != -1:\n",
    "        m.weight.data.normal_(0, 1)\n",
    "        m.weight.data *= 1 / torch.sqrt(m.weight.data.pow(2).sum(1, keepdim=True))\n",
    "        if m.bias is not None:\n",
    "            m.bias.data.fill_(0)\n",
    "\n",
    "def preprocess_obss(obss, device=None):\n",
    "    \"\"\"\n",
    "    Convert observation into Torch.Tensor\n",
    "\n",
    "    Parameters\n",
    "    ----\n",
    "    obss: dictionary or np.ndarray\n",
    "    device: target device of torch.Tensor ('cpu', 'cuda')\n",
    "\n",
    "    Return\n",
    "    ----\n",
    "    Torch Tensor\n",
    "    \"\"\"\n",
    "    if isinstance(obss, dict):\n",
    "        images = np.array([obss[\"image\"]])\n",
    "    else:\n",
    "        images = np.array([o[\"image\"] for o in obss])\n",
    "\n",
    "    return torch.tensor(images, device=device, dtype=torch.float)\n",
    "\n",
    "class DoorKeyEnv5x5(DoorKeyEnv):\n",
    "    def __init__(self):\n",
    "        self.render_mode = \"rgb_array\"\n",
    "        super().__init__(size=5)\n",
    "\n",
    "    def _reward(self):\n",
    "        \"\"\"\n",
    "        Compute the reward to be given upon success\n",
    "        \"\"\"\n",
    "        return 1\n",
    "    \n",
    "class DoorKeyEnv6x6(DoorKeyEnv):\n",
    "    def __init__(self):\n",
    "        self.render_mode = \"rgb_array\"\n",
    "        super().__init__(size=6)\n",
    "\n",
    "    def _reward(self):\n",
    "        \"\"\"\n",
    "        Compute the reward to be given upon success\n",
    "        \"\"\"\n",
    "        return 1\n",
    "    \n",
    "class DoorKeyEnv8x8(DoorKeyEnv):\n",
    "    def __init__(self):\n",
    "        self.render_mode = \"rgb_array\"\n",
    "        super().__init__(size=8)\n",
    "\n",
    "    def _reward(self):\n",
    "        \"\"\"\n",
    "        Compute the reward to be given upon success\n",
    "        \"\"\"\n",
    "        return 1"
   ]
  },
  {
   "cell_type": "code",
   "execution_count": 4,
   "metadata": {},
   "outputs": [
    {
     "data": {
      "text/plain": [
       "<matplotlib.image.AxesImage at 0x7f98437e7a00>"
      ]
     },
     "execution_count": 4,
     "metadata": {},
     "output_type": "execute_result"
    },
    {
     "data": {
      "image/png": "[encoded data removed]",
      "text/plain": [
       "<Figure size 640x480 with 1 Axes>"
      ]
     },
     "metadata": {},
     "output_type": "display_data"
    }
   ],
   "source": [
    "env = DoorKeyEnv6x6() # define environment.\n",
    "env.reset()\n",
    "action = env.action_space.sample()\n",
    "obs, reward, terminated, truncated, info = env.step(action)\n",
    "\n",
    "# get an RGB image corresponding to the whole environment or the agent's point of view (https://github.com/Farama-Foundation/Minigrid/blob/master/minigrid/minigrid_env.py#L716)\n",
    "#            highlight (bool): If true, the agent's field of view or point of view is highlighted with a lighter gray color.\n",
    "#            tile_size (int): How many pixels will form a tile from the NxM grid.\n",
    "#            agent_pov (bool): If true, the rendered frame will only contain the point of view of the agent.\n",
    "frame = env.get_frame(highlight=env.highlight, tile_size=env.tile_size, agent_pov=env.agent_pov)\n",
    "# show an image to the notebook.\n",
    "plt.imshow(frame)"
   ]
  },
  {
   "cell_type": "code",
   "execution_count": 7,
   "metadata": {},
   "outputs": [],
   "source": [
    "class ACModel(nn.Module):\n",
    "    def __init__(self, num_actions, use_critic=True):\n",
    "        \"\"\"\n",
    "        Represents an Actor Crictic model that takes a 2d, multi-channeled\n",
    "        image as input.\n",
    "\n",
    "        Parameters\n",
    "        ----\n",
    "        num_actions : int\n",
    "\n",
    "                      The action space of the environment.\n",
    "                      The action space for DoorKey5x5 is 7-dimensional:\n",
    "                      0: turn left,\n",
    "                      1: turn right,\n",
    "                      2: forward,\n",
    "                      3: pickup an object,\n",
    "                      4: drop an object,\n",
    "                      5: activate an object,\n",
    "                      6: done completing task\n",
    "\n",
    "        use_critics : bool\n",
    "\n",
    "                      Critic network will be used in forward pass if flag is set\n",
    "                      to true.\n",
    "        \"\"\"\n",
    "        super().__init__()\n",
    "        self.use_critic = use_critic\n",
    "\n",
    "        # Define actor's model\n",
    "        self.image_conv_actor = nn.Sequential(\n",
    "            nn.Conv2d(3, 16, (2, 2)),\n",
    "            nn.ReLU(),\n",
    "            nn.MaxPool2d((2, 2)),\n",
    "            nn.Conv2d(16, 32, (2, 2)),\n",
    "            nn.ReLU(),\n",
    "            nn.Conv2d(32, 64, (2, 2)),\n",
    "            nn.ReLU()\n",
    "        )\n",
    "        self.actor = nn.Sequential(\n",
    "            nn.Linear(64, 64),\n",
    "            nn.Tanh(),\n",
    "            nn.Linear(64, num_actions)\n",
    "        )\n",
    "\n",
    "        # Define critic's model\n",
    "        if self.use_critic:\n",
    "            self.image_conv_critic = nn.Sequential(\n",
    "                nn.Conv2d(3, 16, (2, 2)),\n",
    "                nn.ReLU(),\n",
    "                nn.MaxPool2d((2, 2)),\n",
    "                nn.Conv2d(16, 32, (2, 2)),\n",
    "                nn.ReLU(),\n",
    "                nn.Conv2d(32, 64, (2, 2)),\n",
    "                nn.ReLU()\n",
    "            )\n",
    "            self.critic = nn.Sequential(\n",
    "                nn.Linear(64, 64),\n",
    "                nn.Tanh(),\n",
    "                nn.Linear(64, 1)\n",
    "            )\n",
    "\n",
    "        # Initialize parameters correctly\n",
    "        self.apply(init_params)\n",
    "\n",
    "    def forward(self, obs):\n",
    "        \"\"\"\n",
    "        Performs a forward pass through the actor-critic network\n",
    "\n",
    "        Parameters\n",
    "        ----\n",
    "        obs : int tensor. Shape [Batch size, ImWidth, ImHeight, Channels]\n",
    "\n",
    "              input to the network.\n",
    "        ----\n",
    "\n",
    "        returns:\n",
    "\n",
    "        dist : torch.distribution\n",
    "            The distribution of actions from policy. A Categorical distribution\n",
    "            for discreet action spaces.\n",
    "        value : torch.Tensor (Batch size, 1)\n",
    "            value output by critic network\n",
    "        \"\"\"\n",
    "        conv_in = obs.transpose(1, 3).transpose(2, 3) # reshape into [b, c, h, w]\n",
    "\n",
    "        dist, value = None, None\n",
    "\n",
    "        x = self.image_conv_actor(conv_in)\n",
    "        embedding = x.reshape(x.shape[0], -1)\n",
    "\n",
    "        x = self.actor(embedding)\n",
    "        dist = Categorical(logits=F.log_softmax(x, dim=1))\n",
    "\n",
    "        if self.use_critic:\n",
    "            y = self.image_conv_critic(conv_in)\n",
    "            embedding = y.reshape(y.shape[0], -1)\n",
    "\n",
    "            value = self.critic(embedding).squeeze(1)\n",
    "        else:\n",
    "            value = torch.zeros((x.shape[0], 1), device=x.device)\n",
    "        \n",
    "        return dist, value\n",
    "\n",
    "def compute_discounted_return(rewards, discount, device=DEVICE):\n",
    "    \"\"\"\n",
    "\t\trewards: reward obtained at timestep.  Shape: (T,)\n",
    "\t\tdiscount: discount factor. float\n",
    "\n",
    "    ----\n",
    "    returns: sum of discounted rewards. Shape: (T,)\n",
    "\t\t\"\"\"\n",
    "    returns = torch.zeros(*rewards.shape, device=device)\n",
    "\n",
    "    R = 0\n",
    "    for t in reversed(range((rewards.shape[0]))):\n",
    "        R = rewards[t] + discount * R\n",
    "        returns[t] = R\n",
    "    return returns\n",
    "\n",
    "def compute_advantage_gae(values, rewards, T, gae_lambda, discount):\n",
    "    \"\"\"\n",
    "    Compute Adavantage with GAE. See Section 4.4.2 in the lecture notes.\n",
    "\n",
    "    values: value at each timestep (T,)\n",
    "    rewards: reward obtained at each timestep.  Shape: (T,)\n",
    "    T: the number of frames, float\n",
    "    gae_lambda: hyperparameter, float\n",
    "    discount: discount factor, float\n",
    "\n",
    "    -----\n",
    "\n",
    "    returns:\n",
    "\n",
    "    advantages : tensor.float. Shape [T,]\n",
    "\n",
    "                 gae advantage term for timesteps 0 to T\n",
    "\n",
    "    \"\"\"\n",
    "    advantages = torch.zeros_like(values)\n",
    "    for i in reversed(range(T)):\n",
    "        next_value = values[i+1]\n",
    "        next_advantage = advantages[i+1]\n",
    "\n",
    "        delta = rewards[i] + discount * next_value  - values[i]\n",
    "        advantages[i] = delta + discount * gae_lambda * next_advantage\n",
    "    return advantages[:T]"
   ]
  },
  {
   "cell_type": "code",
   "execution_count": 8,
   "metadata": {},
   "outputs": [],
   "source": [
    "class Machine:\n",
    "    def __init__(self, num_actions=7, args=Config()):\n",
    "        \"\"\"\n",
    "        A Machine object consists of a ACModel, its hyperparameters, and its history of rewards.\n",
    "\n",
    "        Args:\n",
    "            num_actions: size of action space\n",
    "            args: Model hyperparameters\n",
    "        \"\"\"\n",
    "        self.args = args\n",
    "        self.model = ACModel(num_actions, use_critic=True).to(DEVICE)\n",
    "        self.optim = torch.optim.Adam(self.model.parameters(), lr=self.args.lr)\n",
    "        self.rewards = []\n",
    "\n",
    "    def copy_machine(self, other: Self) -> None:\n",
    "        \"\"\"\n",
    "        Copy state dict from 'other'. Reset rs.\n",
    "        \"\"\"\n",
    "        state_dict = other.model.state_dict()\n",
    "        for key, v in state_dict.items():\n",
    "            self.model.state_dict()[key].copy_(v)\n",
    "        self.rewards = []\n",
    "\n",
    "    def avg_r(self) -> float:\n",
    "        assert len(self.rewards) > 0, 'No rewards yet'\n",
    "        return sum(self.rewards) / len(self.rewards)\n",
    "    \n",
    "    def collect_experiences(self, env:gym.Env):\n",
    "        \"\"\"\n",
    "        Collects rollouts and computes advantages.\n",
    "\n",
    "        Returns\n",
    "        -------\n",
    "        exps : dict\n",
    "            Contains actions, rewards, advantages etc as attributes.\n",
    "            Each attribute, e.g. `exps['reward']` has a shape\n",
    "            (self.num_frames, ...).\n",
    "        logs : dict\n",
    "            Useful stats about the training process, including the average\n",
    "            reward, policy loss, value loss, etc.\n",
    "        \"\"\"\n",
    "        acmodel = self.model\n",
    "\n",
    "        MAX_FRAMES_PER_EP = 300 # TODO: change this with different environments\n",
    "        shape = (MAX_FRAMES_PER_EP, )\n",
    "\n",
    "        actions = torch.zeros(*shape, device=DEVICE, dtype=torch.int)\n",
    "        values = torch.zeros(*shape, device=DEVICE)\n",
    "        rewards = torch.zeros(*shape, device=DEVICE)\n",
    "        log_probs = torch.zeros(*shape, device=DEVICE)\n",
    "        obss = [None]*MAX_FRAMES_PER_EP\n",
    "\n",
    "        obs, _ = env.reset()\n",
    "\n",
    "        total_return = 0\n",
    "\n",
    "        T = 0\n",
    "\n",
    "        while True:\n",
    "            # Do one agent-environment interaction\n",
    "\n",
    "            preprocessed_obs = preprocess_obss(obs, device=DEVICE)\n",
    "\n",
    "            with torch.no_grad():\n",
    "                dist, value = acmodel(preprocessed_obs)\n",
    "\n",
    "            dist: Categorical\n",
    "            action = dist.sample()[0]\n",
    "\n",
    "            obss[T] = obs\n",
    "            obs, reward, done, _, _ = env.step(action.item())\n",
    "\n",
    "\n",
    "            # Update experiences values\n",
    "            actions[T] = action\n",
    "            values[T] = value\n",
    "            rewards[T] = reward\n",
    "            log_probs[T] = dist.log_prob(action)\n",
    "\n",
    "\n",
    "            total_return += reward\n",
    "            T += 1\n",
    "\n",
    "            if done or T>=MAX_FRAMES_PER_EP-1:\n",
    "                break\n",
    "\n",
    "        discounted_reward = compute_discounted_return(rewards[:T], self.args.discount, DEVICE)\n",
    "        exps = dict(\n",
    "            obs = preprocess_obss([\n",
    "                obss[i]\n",
    "                for i in range(T)\n",
    "            ], device=DEVICE),\n",
    "            action = actions[:T],\n",
    "            value  = values[:T],\n",
    "            reward = rewards[:T],\n",
    "            log_prob = log_probs[:T],\n",
    "            discounted_reward = discounted_reward,\n",
    "            T = T\n",
    "        )\n",
    "\n",
    "        logs = {\n",
    "            \"return_per_episode\": total_return,\n",
    "            \"num_frames\": T\n",
    "        }\n",
    "\n",
    "        return exps, logs\n",
    "\n",
    "    def _compute_policy_loss_ppo(self, obs, init_logp, old_logp, actions, advantages):\n",
    "        \"\"\"\n",
    "        Computes the policy loss for PPO.\n",
    "\n",
    "        obs: observeration to pass into acmodel. shape: (T,)\n",
    "        init_logp: log probabilities we get from the agent performing the action. shape: (T,)\n",
    "        old_logp: log probabilities from previous timestep. shape: (T,)\n",
    "        actions: action at this timestep. shape: (T,ImWidth,ImHeight,Channels)\n",
    "        advantages: the computed advantages. shape: (T,)\n",
    "\n",
    "        ---\n",
    "        Returns:\n",
    "\n",
    "        policy_loss: ppo policy loss as shown in line 6 of PPO alg. tensor.float. Shape (,1)\n",
    "        fit_badly: an approximation of kl divergence between init_logp and old_logp. tensor.float. Shape (,1)\n",
    "        approx_kl: an approximation of kl divergence between old_logp and new_logp. tensor.float. Shape (,1)\n",
    "        \"\"\"\n",
    "        policy_loss, approx_kl = 0, 0\n",
    "        dist, _ = self.model(obs)\n",
    "        dist: Categorical\n",
    "\n",
    "        entropy = dist.entropy()\n",
    "        logps = dist.log_prob(actions)\n",
    "        r_terms = torch.exp(logps - old_logp)\n",
    "        ppo_loss = torch.min(r_terms * advantages, torch.clamp(r_terms, 1 - self.args.clip_ratio, 1 + self.args.clip_ratio) * advantages)\n",
    "        \n",
    "        # Importance sampling factor\n",
    "        factors = torch.exp(old_logp - init_logp)\n",
    "        \n",
    "        indices = factors < 100\n",
    "\n",
    "        policy_loss_tensor = factors * ppo_loss + self.args.entropy_coef * entropy\n",
    "        policy_loss = - torch.mean(policy_loss_tensor[indices])\n",
    "\n",
    "        # approx_kl = torch.sum(torch.exp(old_logp) * (old_logp - logps)) / torch.sum(torch.exp(old_logp))\n",
    "        approx_kl = torch.mean((old_logp - logps) ** 2) / 2\n",
    "        fit_badly = torch.mean((old_logp - init_logp) ** 2)\n",
    "\n",
    "        return policy_loss, fit_badly, approx_kl\n",
    "    \n",
    "    def _compute_value_loss(self, obs, returns):\n",
    "        _, value = self.model(obs)\n",
    "        value_loss = torch.mean((value - returns) ** 2)\n",
    "        return value_loss"
   ]
  },
  {
   "cell_type": "code",
   "execution_count": 39,
   "metadata": {},
   "outputs": [],
   "source": [
    "class MachineCluster:\n",
    "    def __init__(self, hps:list[str], num_machines:int=5, num_survivors:int=2):\n",
    "        \"\"\"\n",
    "        hps: A list of hyperparameters to optimize. Must be a subset of keys in Machine.args.\n",
    "        num_machines: The number of machines in the cluster.\n",
    "        num_survivors: The number of survivors to select from the cluster.\n",
    "        \"\"\"\n",
    "        self.num_machines = num_machines\n",
    "        self.num_survivors = num_survivors\n",
    "        self.hps = hps\n",
    "        self.machines = []\n",
    "        for _ in range(self.num_machines):\n",
    "            self.machines.append(Machine(num_actions=7, args=Config()))\n",
    "\n",
    "        # now let's say hps = ['entropy_coef']\n",
    "        for hp in hps:\n",
    "            values = np.random.uniform(0, 0.5, size=num_machines)\n",
    "            # TODO: Should it be other distributions?\n",
    "            self.update_hp(hp, values)\n",
    "\n",
    "    def update_hp(self, hp:str, targets:list[float]) -> None:\n",
    "        \"\"\"\n",
    "        Update the hyperparameters of the models in the cluster.\n",
    "\n",
    "        Args:\n",
    "            hp: The hyperparameter to update.\n",
    "            targets: The target hyperparameter values. Has length self.num_models.\n",
    "        \"\"\"\n",
    "        for i in range(self.num_machines):\n",
    "            setattr(self.machines[i].args, hp, targets[i])\n",
    "\n",
    "    def get_hps(self, hp:str) -> list[float]:\n",
    "        \"\"\"\n",
    "        Get the hyperparameters of the models in the cluster.\n",
    "\n",
    "        Args:\n",
    "        - hp: str, element of self.hps.\n",
    "\n",
    "        Returns:\n",
    "        - ooooo: A list of hp of each model.\n",
    "        \"\"\"\n",
    "        ooooo = [getattr(self.machines[i].args, hp) for i in range(self.num_machines)]\n",
    "        return ooooo\n",
    "    \n",
    "    def generate_data(self, num_trajs:int=4):\n",
    "        \"\"\"\n",
    "        Generate batches of data for training the models.\n",
    "\n",
    "        Return:\n",
    "            trajs: list of exps.  \n",
    "        \"\"\"\n",
    "\n",
    "        trajs = []\n",
    "\n",
    "        for i in range(self.num_machines):\n",
    "            for _ in range(num_trajs):\n",
    "                exps, _ = self.machines[i].collect_experiences(env)\n",
    "                trajs.append(exps)\n",
    "            \n",
    "            # print(f'Generated data for machine {i}.')\n",
    "        \n",
    "        return trajs\n",
    "    \n",
    "    def train_one_step(self, data, batch_size=4):\n",
    "        \"\"\"\n",
    "        Do at most self.args.train_ac_iters step of optimization on each model in the cluster.\n",
    "\n",
    "        Args:\n",
    "            data: list of exps.\n",
    "            batch_size: number of trajectories used in each gradient step.\n",
    "\n",
    "        Return:\n",
    "            logs: list of length self.num_machines. Each element is a list of dictionaries containing policy_loss and value_loss.\n",
    "        \"\"\"\n",
    "        # TODO: actually do this\n",
    "\n",
    "        MAX_FRAMES_PER_EP = 300\n",
    "\n",
    "        logs = [[]] * self.num_machines\n",
    "        fit_badly_counter = False\n",
    "        \n",
    "        for machine_idx in range(self.num_machines):\n",
    "\n",
    "            machine = self.machines[machine_idx]\n",
    "\n",
    "            total_policy_loss = 0\n",
    "            total_value_loss = 0\n",
    "            fit_badly_count = 0\n",
    "\n",
    "            # select random subset of data\n",
    "            idx = np.random.choice(len(data), batch_size, replace=False)\n",
    "\n",
    "            for i in idx:\n",
    "                sb = data[i]\n",
    "                T = sb['T']\n",
    "                obs = sb['obs']\n",
    "                dist, values = machine.model(obs)\n",
    "                init_logp = sb['log_prob']\n",
    "                old_logp = dist.log_prob(sb['action']).detach()\n",
    "\n",
    "                # add 0 to end of values until it has length MAX_FRAMES_PER_EP\n",
    "                values_extended = torch.cat([values, torch.zeros((MAX_FRAMES_PER_EP - len(values), ), device=DEVICE)], dim=0)\n",
    "                full_reward = torch.cat([sb['reward'], torch.zeros((MAX_FRAMES_PER_EP - len(sb['reward']), ), device=DEVICE)], dim=0)\n",
    "                assert len(values_extended) == MAX_FRAMES_PER_EP\n",
    "                assert len(full_reward) == MAX_FRAMES_PER_EP\n",
    "                \n",
    "                # compute advantage\n",
    "                if machine.args.use_gae:\n",
    "                    advantage = compute_advantage_gae(values_extended, full_reward, T, machine.args.gae_lambda, machine.args.discount)\n",
    "                else:\n",
    "                    advantage = sb['discounted_reward'] - values.reshape(-1)\n",
    "                \n",
    "                # compute policy and value loss\n",
    "                policy_loss, fit_badly, approx_kl = machine._compute_policy_loss_ppo(obs, init_logp, old_logp, sb['action'], advantage)\n",
    "\n",
    "                value_loss = machine._compute_value_loss(obs, sb['discounted_reward'])\n",
    "                \n",
    "                if fit_badly < machine.args.fit_badly_coeff:\n",
    "                    total_policy_loss += policy_loss\n",
    "                    total_value_loss += value_loss\n",
    "                else:\n",
    "                    fit_badly_count += 1\n",
    "            \n",
    "            if random.random() < 0.03:\n",
    "                print(fit_badly_count / (batch_size * self.num_machines))\n",
    "            \n",
    "            machine.optim.zero_grad()\n",
    "            loss = torch.tensor(total_policy_loss + total_value_loss, dtype=torch.float32, device=DEVICE).requires_grad_()\n",
    "            loss.backward()\n",
    "            machine.optim.step()\n",
    "            \n",
    "            logs[machine_idx].append({\n",
    "            \"policy_loss\": total_policy_loss,\n",
    "            \"value_loss\": total_value_loss\n",
    "            })\n",
    "\n",
    "            if fit_badly_count / (batch_size * self.num_machines) > 0.3:\n",
    "                fit_badly_counter = True\n",
    "        \n",
    "        return logs, fit_badly_counter\n",
    "\n",
    "    def train(self, data, batch_size=4, max_steps=25):\n",
    "        \"\"\"\n",
    "        Train each model in the cluster until data fits poorly, or until reaches max_steps.\n",
    "\n",
    "        Return:\n",
    "        logs: list of length self.num_machines. Each element is a list of dictionaries containing policy_loss and value_loss.\n",
    "        \"\"\" \n",
    "\n",
    "        logs = [[]] * self.num_machines\n",
    "        steps = 0\n",
    "        fit_badly_counter = False\n",
    "    \n",
    "        while not fit_badly_counter:\n",
    "            if steps >= max_steps:\n",
    "                break\n",
    "            new_logs, fit_badly_counter = self.train_one_step(data, batch_size)\n",
    "            logs = [[*i, *j] for i, j in zip(logs, new_logs)]\n",
    "            steps += 1\n",
    "        \n",
    "        return logs\n",
    "        \n",
    "    def evaluate(self) -> list[float]:\n",
    "        \"\"\"\n",
    "        Evaluate the performance of the models in the cluster.\n",
    "\n",
    "        Args:\n",
    "        - trained_models: list of Machines.\n",
    "\n",
    "        Returns:\n",
    "        - performances: list of floats. The average return of each model.\n",
    "        \"\"\"\n",
    "\n",
    "        performances = []\n",
    "\n",
    "        for machine in self.machines:\n",
    "            total_rewards = 0\n",
    "            for i in range(10):\n",
    "                _, logs = machine.collect_experiences(env)\n",
    "                total_rewards += logs['return_per_episode']\n",
    "            machine.rewards.append(total_rewards / 10)\n",
    "            performances.append(total_rewards / 10)\n",
    "\n",
    "        return performances\n",
    "        \n",
    "    def reproduce(self, performances) -> None:\n",
    "        \"\"\"\n",
    "        Select and reproduce the survivors.\n",
    "        Also shift hyperparams.\n",
    "        \"\"\"\n",
    "\n",
    "        survivors = torch.topk(torch.tensor(performances, device=DEVICE), self.num_survivors).indices\n",
    "        logits = torch.tensor([performances[x] if x in survivors else float('-inf') for x in range(self.num_machines)])\n",
    "        dist = torch.distributions.Categorical(logits=logits)\n",
    "\n",
    "        for i in range(self.num_machines):\n",
    "            if i not in survivors:\n",
    "                self.machines[i].copy_machine(self.machines[dist.sample().item()])\n",
    "        \n",
    "        for hp in self.hps:\n",
    "            new_hps = self.get_hps(hp)\n",
    "            for i in range(self.num_machines):\n",
    "                new_hps[i] += np.random.normal(0, 0.05)\n",
    "                if new_hps[i] < 0:\n",
    "                    new_hps[i] = 0.01\n",
    "                if new_hps[i] > 0.5:\n",
    "                    new_hps[i] = 0.5\n",
    "            print(new_hps)\n",
    "            self.update_hp(hp, new_hps)"
   ]
  },
  {
   "cell_type": "code",
   "execution_count": 38,
   "metadata": {},
   "outputs": [],
   "source": [
    "def run_cluster_experiment(hps:list[str], \n",
    "                           num_machines:int=5, \n",
    "                           num_survivors:int=2, \n",
    "                           num_trajs:int=4, \n",
    "                           num_iters:int=200,\n",
    "                           batch_size:int=4,\n",
    "                           max_steps:int=5, \n",
    "                           seed=42):\n",
    "    \"\"\"\n",
    "    Run the cluster experiment.\n",
    "    \"\"\"\n",
    "    random.seed(seed)\n",
    "    np.random.seed(seed)\n",
    "    torch.manual_seed(seed)\n",
    "    \n",
    "    cluster = MachineCluster(hps = hps, num_machines = num_machines, num_survivors = num_survivors)\n",
    "\n",
    "    pbar = tqdm(range(num_iters))\n",
    "    logs = [[]] * num_machines\n",
    "\n",
    "    for iter in pbar:\n",
    "        data = cluster.generate_data(num_trajs=num_trajs)\n",
    "        _ = cluster.train(data=data, batch_size=batch_size, max_steps=max_steps)\n",
    "        performances = cluster.evaluate()\n",
    "        logs = [[*i, j] for i, j in zip(logs, performances)]\n",
    "        cluster.reproduce(performances)\n",
    "\n",
    "        print(f'Iteration {iter} done!')\n",
    "\n",
    "    # return pd.DataFrame(pdlogs).set_index('epoch')\n",
    "    return logs, cluster.machines"
   ]
  },
  {
   "cell_type": "code",
   "execution_count": 40,
   "metadata": {},
   "outputs": [
    {
     "name": "stderr",
     "output_type": "stream",
     "text": [
      "  0%|          | 0/200 [00:00<?, ?it/s]/var/folders/8m/r3kmm3xs1lngf9bhwg216mlc0000gn/T/ipykernel_41554/1551278119.py:128: UserWarning: To copy construct from a tensor, it is recommended to use sourceTensor.clone().detach() or sourceTensor.clone().detach().requires_grad_(True), rather than torch.tensor(sourceTensor).\n",
      "  loss = torch.tensor(total_policy_loss + total_value_loss, dtype=torch.float32, device=DEVICE).requires_grad_()\n"
     ]
    },
    {
     "name": "stdout",
     "output_type": "stream",
     "text": [
      "0.05\n",
      "0.0\n",
      "0.15\n",
      "0.0\n"
     ]
    },
    {
     "name": "stderr",
     "output_type": "stream",
     "text": [
      "  0%|          | 1/200 [00:39<2:11:29, 39.65s/it]"
     ]
    },
    {
     "name": "stdout",
     "output_type": "stream",
     "text": [
      "[0.12809140102645436, 0.48680567481647996, 0.3490276562467927, 0.2585656952724221, 0.11296393931421772]\n",
      "Iteration 0 done!\n"
     ]
    },
    {
     "name": "stderr",
     "output_type": "stream",
     "text": [
      "  1%|          | 2/200 [01:17<2:08:16, 38.87s/it]"
     ]
    },
    {
     "name": "stdout",
     "output_type": "stream",
     "text": [
      "[0.15808623271200467, 0.4863661470013122, 0.3715982161791676, 0.2993582762968766, 0.14130173566015902]\n",
      "Iteration 1 done!\n"
     ]
    },
    {
     "name": "stderr",
     "output_type": "stream",
     "text": [
      "  2%|▏         | 3/200 [01:58<2:10:09, 39.64s/it]"
     ]
    },
    {
     "name": "stdout",
     "output_type": "stream",
     "text": [
      "[0.17956714366863397, 0.4967505313594678, 0.38517715803893626, 0.23552084750586114, 0.08724890863974591]\n",
      "Iteration 2 done!\n"
     ]
    },
    {
     "name": "stderr",
     "output_type": "stream",
     "text": [
      "  2%|▏         | 4/200 [02:34<2:04:15, 38.04s/it]"
     ]
    },
    {
     "name": "stdout",
     "output_type": "stream",
     "text": [
      "[0.23222478633527915, 0.5, 0.40578807815113294, 0.23137830176556654, 0.06859064952908606]\n",
      "Iteration 3 done!\n",
      "0.0\n",
      "0.0\n"
     ]
    },
    {
     "name": "stderr",
     "output_type": "stream",
     "text": [
      "  2%|▎         | 5/200 [03:12<2:03:30, 38.00s/it]"
     ]
    },
    {
     "name": "stdout",
     "output_type": "stream",
     "text": [
      "[0.21298269223792288, 0.5, 0.38385871783826814, 0.289693439127406, 0.09701269984189378]\n",
      "Iteration 4 done!\n",
      "0.0\n"
     ]
    },
    {
     "name": "stderr",
     "output_type": "stream",
     "text": [
      "  3%|▎         | 6/200 [03:52<2:05:53, 38.93s/it]"
     ]
    },
    {
     "name": "stdout",
     "output_type": "stream",
     "text": [
      "[0.24296239790199758, 0.3787879869863529, 0.4280609876563206, 0.3265356339820277, 0.08294632198598312]\n",
      "Iteration 5 done!\n"
     ]
    },
    {
     "name": "stderr",
     "output_type": "stream",
     "text": [
      "  4%|▎         | 7/200 [04:30<2:04:12, 38.61s/it]"
     ]
    },
    {
     "name": "stdout",
     "output_type": "stream",
     "text": [
      "[0.1592401847106128, 0.3339785138705199, 0.4017462610949719, 0.4018265483640105, 0.14945547630129385]\n",
      "Iteration 6 done!\n"
     ]
    },
    {
     "name": "stderr",
     "output_type": "stream",
     "text": [
      "  4%|▍         | 8/200 [05:05<2:00:02, 37.51s/it]"
     ]
    },
    {
     "name": "stdout",
     "output_type": "stream",
     "text": [
      "[0.2255886112634466, 0.34089344835981045, 0.3847505358065111, 0.5, 0.09983756197676816]\n",
      "Iteration 7 done!\n"
     ]
    },
    {
     "name": "stderr",
     "output_type": "stream",
     "text": [
      "  4%|▍         | 9/200 [05:52<2:08:16, 40.30s/it]"
     ]
    },
    {
     "name": "stdout",
     "output_type": "stream",
     "text": [
      "[0.22591258547448242, 0.40853550709447406, 0.3744931243566177, 0.47647955537342895, 0.10119026401121572]\n",
      "Iteration 8 done!\n"
     ]
    },
    {
     "name": "stderr",
     "output_type": "stream",
     "text": [
      "  5%|▌         | 10/200 [06:42<2:16:51, 43.22s/it]"
     ]
    },
    {
     "name": "stdout",
     "output_type": "stream",
     "text": [
      "[0.23100562079347509, 0.3469620696647636, 0.43986733383378496, 0.42151814285552175, 0.08359905539435464]\n",
      "Iteration 9 done!\n",
      "0.0\n"
     ]
    },
    {
     "name": "stderr",
     "output_type": "stream",
     "text": [
      "  6%|▌         | 11/200 [07:22<2:13:23, 42.35s/it]"
     ]
    },
    {
     "name": "stdout",
     "output_type": "stream",
     "text": [
      "[0.19900602995460262, 0.3386509954292561, 0.5, 0.4284103680995609, 0.0484626545987227]\n",
      "Iteration 10 done!\n",
      "0.0\n",
      "0.0\n"
     ]
    },
    {
     "name": "stderr",
     "output_type": "stream",
     "text": [
      "  6%|▌         | 12/200 [07:59<2:07:37, 40.73s/it]"
     ]
    },
    {
     "name": "stdout",
     "output_type": "stream",
     "text": [
      "[0.138771365813197, 0.2968867101497182, 0.5, 0.425661310934516, 0.025171550652742243]\n",
      "Iteration 11 done!\n",
      "0.0\n"
     ]
    },
    {
     "name": "stderr",
     "output_type": "stream",
     "text": [
      "  6%|▋         | 13/200 [08:39<2:06:16, 40.51s/it]"
     ]
    },
    {
     "name": "stdout",
     "output_type": "stream",
     "text": [
      "[0.11831553513043441, 0.295961479988235, 0.5, 0.447017997368899, 0.01]\n",
      "Iteration 12 done!\n",
      "0.0\n"
     ]
    },
    {
     "name": "stderr",
     "output_type": "stream",
     "text": [
      "  7%|▋         | 14/200 [09:17<2:03:39, 39.89s/it]"
     ]
    },
    {
     "name": "stdout",
     "output_type": "stream",
     "text": [
      "[0.16407027210958192, 0.2316234152555982, 0.5, 0.4399345081010688, 0.01]\n",
      "Iteration 13 done!\n",
      "0.0\n"
     ]
    },
    {
     "name": "stderr",
     "output_type": "stream",
     "text": [
      "  8%|▊         | 15/200 [09:58<2:03:35, 40.08s/it]"
     ]
    },
    {
     "name": "stdout",
     "output_type": "stream",
     "text": [
      "[0.19557771093097498, 0.13778747872146135, 0.5, 0.4839487620502579, 0.03943263396912174]\n",
      "Iteration 14 done!\n",
      "0.0\n"
     ]
    },
    {
     "name": "stderr",
     "output_type": "stream",
     "text": [
      "  8%|▊         | 16/200 [10:41<2:05:10, 40.82s/it]"
     ]
    },
    {
     "name": "stdout",
     "output_type": "stream",
     "text": [
      "[0.1913813481873412, 0.17328764167331406, 0.5, 0.5, 0.04677844780101822]\n",
      "Iteration 15 done!\n",
      "0.0\n"
     ]
    },
    {
     "name": "stderr",
     "output_type": "stream",
     "text": [
      "  8%|▊         | 17/200 [11:15<1:58:29, 38.85s/it]"
     ]
    },
    {
     "name": "stdout",
     "output_type": "stream",
     "text": [
      "[0.256130627428189, 0.20049865929033142, 0.5, 0.5, 0.023719961199287272]\n",
      "Iteration 16 done!\n",
      "0.0\n"
     ]
    },
    {
     "name": "stderr",
     "output_type": "stream",
     "text": [
      "  9%|▉         | 18/200 [11:49<1:54:01, 37.59s/it]"
     ]
    },
    {
     "name": "stdout",
     "output_type": "stream",
     "text": [
      "[0.293958861173846, 0.21419152331028768, 0.4356183901777233, 0.5, 0.018675692421983747]\n",
      "Iteration 17 done!\n"
     ]
    },
    {
     "name": "stderr",
     "output_type": "stream",
     "text": [
      " 10%|▉         | 19/200 [12:25<1:51:11, 36.86s/it]"
     ]
    },
    {
     "name": "stdout",
     "output_type": "stream",
     "text": [
      "[0.34831397927463315, 0.2299537696388304, 0.43353792462805707, 0.5, 0.01]\n",
      "Iteration 18 done!\n",
      "0.0\n",
      "0.0\n"
     ]
    },
    {
     "name": "stderr",
     "output_type": "stream",
     "text": [
      " 10%|█         | 20/200 [12:59<1:48:05, 36.03s/it]"
     ]
    },
    {
     "name": "stdout",
     "output_type": "stream",
     "text": [
      "[0.4052958698753347, 0.2261315132774055, 0.39576874576086984, 0.4278891763065973, 0.042400159257702]\n",
      "Iteration 19 done!\n",
      "0.0\n",
      "0.0\n",
      "0.0\n"
     ]
    },
    {
     "name": "stderr",
     "output_type": "stream",
     "text": [
      " 10%|█         | 21/200 [13:33<1:45:51, 35.48s/it]"
     ]
    },
    {
     "name": "stdout",
     "output_type": "stream",
     "text": [
      "[0.44045299698633494, 0.2527918791723711, 0.40403892877585507, 0.3587882978719754, 0.018219302279930162]\n",
      "Iteration 20 done!\n",
      "0.0\n",
      "0.0\n"
     ]
    },
    {
     "name": "stderr",
     "output_type": "stream",
     "text": [
      " 11%|█         | 22/200 [14:12<1:48:53, 36.71s/it]"
     ]
    },
    {
     "name": "stdout",
     "output_type": "stream",
     "text": [
      "[0.48254203572553556, 0.2268585431913106, 0.4466990060284328, 0.360259827455853, 0.04405152457672853]\n",
      "Iteration 21 done!\n"
     ]
    },
    {
     "name": "stderr",
     "output_type": "stream",
     "text": [
      " 12%|█▏        | 23/200 [14:50<1:48:49, 36.89s/it]"
     ]
    },
    {
     "name": "stdout",
     "output_type": "stream",
     "text": [
      "[0.49065976376635945, 0.17399241305070562, 0.4399960283376763, 0.3391721038753831, 0.07813357275875278]\n",
      "Iteration 22 done!\n",
      "0.0\n",
      "0.0\n"
     ]
    },
    {
     "name": "stderr",
     "output_type": "stream",
     "text": [
      " 12%|█▏        | 24/200 [15:24<1:45:29, 35.97s/it]"
     ]
    },
    {
     "name": "stdout",
     "output_type": "stream",
     "text": [
      "[0.4524314146062246, 0.21950320223394287, 0.43081961972981864, 0.2787121683134028, 0.08097065692359376]\n",
      "Iteration 23 done!\n"
     ]
    },
    {
     "name": "stderr",
     "output_type": "stream",
     "text": [
      " 12%|█▎        | 25/200 [16:01<1:46:23, 36.48s/it]"
     ]
    },
    {
     "name": "stdout",
     "output_type": "stream",
     "text": [
      "[0.4413075079412317, 0.22290934474097546, 0.45500856142995755, 0.30627887911789, 0.12489333557351574]\n",
      "Iteration 24 done!\n",
      "0.0\n"
     ]
    },
    {
     "name": "stderr",
     "output_type": "stream",
     "text": [
      " 13%|█▎        | 26/200 [16:39<1:46:43, 36.80s/it]"
     ]
    },
    {
     "name": "stdout",
     "output_type": "stream",
     "text": [
      "[0.3905887601421342, 0.16092746200498642, 0.36313075135495987, 0.4116119027011118, 0.21670854318917795]\n",
      "Iteration 25 done!\n"
     ]
    },
    {
     "name": "stderr",
     "output_type": "stream",
     "text": [
      " 14%|█▎        | 27/200 [17:15<1:45:18, 36.52s/it]"
     ]
    },
    {
     "name": "stdout",
     "output_type": "stream",
     "text": [
      "[0.4551240359077407, 0.23074483720057865, 0.35013155509232463, 0.4130333158866977, 0.17000083283670087]\n",
      "Iteration 26 done!\n",
      "0.0\n"
     ]
    },
    {
     "name": "stderr",
     "output_type": "stream",
     "text": [
      " 14%|█▍        | 28/200 [17:49<1:43:11, 36.00s/it]"
     ]
    },
    {
     "name": "stdout",
     "output_type": "stream",
     "text": [
      "[0.5, 0.20560139951703085, 0.4090748519441716, 0.47859143071687854, 0.2132043319436482]\n",
      "Iteration 27 done!\n"
     ]
    },
    {
     "name": "stderr",
     "output_type": "stream",
     "text": [
      " 14%|█▍        | 29/200 [18:19<1:37:11, 34.10s/it]"
     ]
    },
    {
     "name": "stdout",
     "output_type": "stream",
     "text": [
      "[0.49267536427107794, 0.21934303988202697, 0.4587948540486006, 0.46521568883483455, 0.2729673403952216]\n",
      "Iteration 28 done!\n"
     ]
    },
    {
     "name": "stderr",
     "output_type": "stream",
     "text": [
      " 15%|█▌        | 30/200 [18:48<1:31:48, 32.40s/it]"
     ]
    },
    {
     "name": "stdout",
     "output_type": "stream",
     "text": [
      "[0.40871867149534713, 0.21371981106070126, 0.38303818834371944, 0.4059695284899515, 0.3318888566773332]\n",
      "Iteration 29 done!\n"
     ]
    },
    {
     "name": "stderr",
     "output_type": "stream",
     "text": [
      " 16%|█▌        | 31/200 [19:12<1:24:42, 30.07s/it]"
     ]
    },
    {
     "name": "stdout",
     "output_type": "stream",
     "text": [
      "[0.33220471469885776, 0.20759801157333138, 0.3376130627681099, 0.4361749012619037, 0.251030262175056]\n",
      "Iteration 30 done!\n"
     ]
    },
    {
     "name": "stderr",
     "output_type": "stream",
     "text": [
      " 16%|█▌        | 32/200 [19:36<1:19:01, 28.23s/it]"
     ]
    },
    {
     "name": "stdout",
     "output_type": "stream",
     "text": [
      "[0.3495203502101021, 0.16619665261394845, 0.37344834688004536, 0.3653792447850598, 0.18246455336974982]\n",
      "Iteration 31 done!\n"
     ]
    },
    {
     "name": "stderr",
     "output_type": "stream",
     "text": [
      " 16%|█▋        | 33/200 [20:13<1:25:33, 30.74s/it]"
     ]
    },
    {
     "name": "stdout",
     "output_type": "stream",
     "text": [
      "[0.3135132202020867, 0.20154752776182872, 0.35929953303100787, 0.4180176917656391, 0.2077200839739035]\n",
      "Iteration 32 done!\n"
     ]
    },
    {
     "name": "stderr",
     "output_type": "stream",
     "text": [
      " 17%|█▋        | 34/200 [20:37<1:19:28, 28.72s/it]"
     ]
    },
    {
     "name": "stdout",
     "output_type": "stream",
     "text": [
      "[0.4030871872202936, 0.13471704891437963, 0.38675112976254183, 0.4152045060843366, 0.25342440360537993]\n",
      "Iteration 33 done!\n"
     ]
    },
    {
     "name": "stderr",
     "output_type": "stream",
     "text": [
      " 18%|█▊        | 35/200 [21:01<1:15:24, 27.42s/it]"
     ]
    },
    {
     "name": "stdout",
     "output_type": "stream",
     "text": [
      "[0.44341934305643105, 0.12329545286106171, 0.35003733119807084, 0.3825529773114339, 0.2201344101002914]\n",
      "Iteration 34 done!\n",
      "0.0\n"
     ]
    },
    {
     "name": "stderr",
     "output_type": "stream",
     "text": [
      " 18%|█▊        | 36/200 [21:26<1:12:44, 26.61s/it]"
     ]
    },
    {
     "name": "stdout",
     "output_type": "stream",
     "text": [
      "[0.49667850206261305, 0.12868345563368885, 0.33754264440746856, 0.39716041941737384, 0.2341462074004161]\n",
      "Iteration 35 done!\n"
     ]
    },
    {
     "name": "stderr",
     "output_type": "stream",
     "text": [
      " 18%|█▊        | 37/200 [21:50<1:10:03, 25.79s/it]"
     ]
    },
    {
     "name": "stdout",
     "output_type": "stream",
     "text": [
      "[0.5, 0.18754843378374417, 0.3455244758350694, 0.4214151709725339, 0.26938451683753073]\n",
      "Iteration 36 done!\n"
     ]
    },
    {
     "name": "stderr",
     "output_type": "stream",
     "text": [
      " 19%|█▉        | 38/200 [22:14<1:08:25, 25.34s/it]"
     ]
    },
    {
     "name": "stdout",
     "output_type": "stream",
     "text": [
      "[0.45622770720729516, 0.21112485799250613, 0.33277949506062715, 0.388992170425413, 0.2809526330545953]\n",
      "Iteration 37 done!\n",
      "0.0\n",
      "0.0\n"
     ]
    },
    {
     "name": "stderr",
     "output_type": "stream",
     "text": [
      " 20%|█▉        | 39/200 [22:38<1:07:13, 25.05s/it]"
     ]
    },
    {
     "name": "stdout",
     "output_type": "stream",
     "text": [
      "[0.48760724382149745, 0.26243681208742997, 0.32015312872008383, 0.3794811063185489, 0.3072827437721838]\n",
      "Iteration 38 done!\n"
     ]
    },
    {
     "name": "stderr",
     "output_type": "stream",
     "text": [
      " 20%|██        | 40/200 [23:02<1:06:01, 24.76s/it]"
     ]
    },
    {
     "name": "stdout",
     "output_type": "stream",
     "text": [
      "[0.5, 0.21300232614508371, 0.27846289810071845, 0.330885422332031, 0.3359532684669455]\n",
      "Iteration 39 done!\n",
      "0.0\n"
     ]
    },
    {
     "name": "stderr",
     "output_type": "stream",
     "text": [
      " 20%|██        | 41/200 [23:27<1:05:15, 24.62s/it]"
     ]
    },
    {
     "name": "stdout",
     "output_type": "stream",
     "text": [
      "[0.44208284832189354, 0.12675657694912623, 0.2941606824392496, 0.29710585097669584, 0.2543807151162147]\n",
      "Iteration 40 done!\n",
      "0.0\n",
      "0.0\n",
      "0.0\n"
     ]
    },
    {
     "name": "stderr",
     "output_type": "stream",
     "text": [
      " 21%|██        | 42/200 [23:51<1:04:15, 24.40s/it]"
     ]
    },
    {
     "name": "stdout",
     "output_type": "stream",
     "text": [
      "[0.5, 0.1830402037833266, 0.21747397735574053, 0.3196391603750024, 0.2428190865566843]\n",
      "Iteration 41 done!\n"
     ]
    },
    {
     "name": "stderr",
     "output_type": "stream",
     "text": [
      " 22%|██▏       | 43/200 [24:16<1:04:19, 24.58s/it]"
     ]
    },
    {
     "name": "stdout",
     "output_type": "stream",
     "text": [
      "[0.4822446763242366, 0.171817368633248, 0.31169552825100555, 0.28793958745196574, 0.24548952125393975]\n",
      "Iteration 42 done!\n"
     ]
    },
    {
     "name": "stderr",
     "output_type": "stream",
     "text": [
      " 22%|██▏       | 44/200 [24:40<1:03:53, 24.57s/it]"
     ]
    },
    {
     "name": "stdout",
     "output_type": "stream",
     "text": [
      "[0.41663686623577467, 0.14687872651658906, 0.2848186631586396, 0.3028247638927051, 0.20429665175245593]\n",
      "Iteration 43 done!\n"
     ]
    },
    {
     "name": "stderr",
     "output_type": "stream",
     "text": [
      " 22%|██▎       | 45/200 [25:04<1:02:58, 24.38s/it]"
     ]
    },
    {
     "name": "stdout",
     "output_type": "stream",
     "text": [
      "[0.38145945239434365, 0.1859406461391575, 0.22393749102061938, 0.3614559630188271, 0.306878961302678]\n",
      "Iteration 44 done!\n",
      "0.0\n",
      "0.0\n"
     ]
    },
    {
     "name": "stderr",
     "output_type": "stream",
     "text": [
      " 23%|██▎       | 46/200 [25:28<1:02:17, 24.27s/it]"
     ]
    },
    {
     "name": "stdout",
     "output_type": "stream",
     "text": [
      "[0.38686502294596686, 0.2335958265221151, 0.14506946066096124, 0.3640787763789972, 0.3140507181529463]\n",
      "Iteration 45 done!\n",
      "0.0\n",
      "0.0\n"
     ]
    },
    {
     "name": "stderr",
     "output_type": "stream",
     "text": [
      " 24%|██▎       | 47/200 [25:53<1:02:34, 24.54s/it]"
     ]
    },
    {
     "name": "stdout",
     "output_type": "stream",
     "text": [
      "[0.3770897803951847, 0.2731817194483793, 0.19314549058901467, 0.3819424544811203, 0.314194436695244]\n",
      "Iteration 46 done!\n",
      "0.0\n",
      "0.0\n"
     ]
    },
    {
     "name": "stderr",
     "output_type": "stream",
     "text": [
      " 24%|██▍       | 48/200 [26:18<1:02:16, 24.58s/it]"
     ]
    },
    {
     "name": "stdout",
     "output_type": "stream",
     "text": [
      "[0.3952905524683828, 0.24930908308690847, 0.1912062161402771, 0.42896722589327174, 0.22505699749939734]\n",
      "Iteration 47 done!\n"
     ]
    },
    {
     "name": "stderr",
     "output_type": "stream",
     "text": [
      " 24%|██▍       | 49/200 [26:42<1:01:35, 24.47s/it]"
     ]
    },
    {
     "name": "stdout",
     "output_type": "stream",
     "text": [
      "[0.44406406830525824, 0.1993443927055919, 0.14314269118275336, 0.4357352251978826, 0.22095546568393942]\n",
      "Iteration 48 done!\n"
     ]
    },
    {
     "name": "stderr",
     "output_type": "stream",
     "text": [
      " 25%|██▌       | 50/200 [27:21<1:11:40, 28.67s/it]"
     ]
    },
    {
     "name": "stdout",
     "output_type": "stream",
     "text": [
      "[0.48123224638060397, 0.21344110786585, 0.16596759294528565, 0.4706564819171012, 0.24396534974544148]\n",
      "Iteration 49 done!\n"
     ]
    },
    {
     "name": "stderr",
     "output_type": "stream",
     "text": [
      " 26%|██▌       | 51/200 [27:49<1:10:49, 28.52s/it]"
     ]
    },
    {
     "name": "stdout",
     "output_type": "stream",
     "text": [
      "[0.5, 0.12340349609534038, 0.15503365134665137, 0.38538793456246395, 0.25797943144734714]\n",
      "Iteration 50 done!\n"
     ]
    },
    {
     "name": "stderr",
     "output_type": "stream",
     "text": [
      " 26%|██▌       | 52/200 [28:18<1:10:50, 28.72s/it]"
     ]
    },
    {
     "name": "stdout",
     "output_type": "stream",
     "text": [
      "[0.5, 0.04024258104297404, 0.1637661972415414, 0.3650952135786282, 0.2340949387028425]\n",
      "Iteration 51 done!\n"
     ]
    },
    {
     "name": "stderr",
     "output_type": "stream",
     "text": [
      " 26%|██▋       | 53/200 [28:53<1:14:51, 30.56s/it]"
     ]
    },
    {
     "name": "stdout",
     "output_type": "stream",
     "text": [
      "[0.5, 0.16605530198431143, 0.20160248425542196, 0.38662293006054027, 0.23743121466061615]\n",
      "Iteration 52 done!\n"
     ]
    },
    {
     "name": "stderr",
     "output_type": "stream",
     "text": [
      " 27%|██▋       | 54/200 [29:27<1:16:50, 31.58s/it]"
     ]
    },
    {
     "name": "stdout",
     "output_type": "stream",
     "text": [
      "[0.5, 0.23401987320113693, 0.15060404831703753, 0.39465103597541124, 0.2656220426299414]\n",
      "Iteration 53 done!\n",
      "0.0\n"
     ]
    },
    {
     "name": "stderr",
     "output_type": "stream",
     "text": [
      " 28%|██▊       | 55/200 [29:55<1:14:08, 30.68s/it]"
     ]
    },
    {
     "name": "stdout",
     "output_type": "stream",
     "text": [
      "[0.4700055199083011, 0.20948381692735416, 0.16304080202064777, 0.3394987136015939, 0.22622725734604912]\n",
      "Iteration 54 done!\n",
      "0.0\n",
      "0.0\n"
     ]
    },
    {
     "name": "stderr",
     "output_type": "stream",
     "text": [
      " 28%|██▊       | 56/200 [30:26<1:13:26, 30.60s/it]"
     ]
    },
    {
     "name": "stdout",
     "output_type": "stream",
     "text": [
      "[0.4587348650648665, 0.19698779417136883, 0.12866000306270875, 0.34537894581163353, 0.26891524453720483]\n",
      "Iteration 55 done!\n",
      "0.0\n"
     ]
    },
    {
     "name": "stderr",
     "output_type": "stream",
     "text": [
      " 28%|██▊       | 57/200 [30:52<1:09:57, 29.35s/it]"
     ]
    },
    {
     "name": "stdout",
     "output_type": "stream",
     "text": [
      "[0.4131869562927026, 0.26283178609479296, 0.1327476403859332, 0.34755329224182363, 0.2550614501344073]\n",
      "Iteration 56 done!\n",
      "0.0\n"
     ]
    },
    {
     "name": "stderr",
     "output_type": "stream",
     "text": [
      " 29%|██▉       | 58/200 [31:19<1:07:24, 28.48s/it]"
     ]
    },
    {
     "name": "stdout",
     "output_type": "stream",
     "text": [
      "[0.3841138283296813, 0.22925719207416778, 0.13474516448235194, 0.4347548675244843, 0.27536908576712943]\n",
      "Iteration 57 done!\n"
     ]
    },
    {
     "name": "stderr",
     "output_type": "stream",
     "text": [
      " 30%|██▉       | 59/200 [31:47<1:06:45, 28.41s/it]"
     ]
    },
    {
     "name": "stdout",
     "output_type": "stream",
     "text": [
      "[0.4513044840027456, 0.27444639896538114, 0.12210419871595989, 0.3757649870593606, 0.26869438176373717]\n",
      "Iteration 58 done!\n"
     ]
    },
    {
     "name": "stderr",
     "output_type": "stream",
     "text": [
      " 30%|███       | 60/200 [32:12<1:04:14, 27.53s/it]"
     ]
    },
    {
     "name": "stdout",
     "output_type": "stream",
     "text": [
      "[0.4028204157054022, 0.23289400654982623, 0.18987897535971027, 0.4779170992328765, 0.29907596973114414]\n",
      "Iteration 59 done!\n"
     ]
    },
    {
     "name": "stderr",
     "output_type": "stream",
     "text": [
      " 30%|███       | 61/200 [32:40<1:03:46, 27.53s/it]"
     ]
    },
    {
     "name": "stdout",
     "output_type": "stream",
     "text": [
      "[0.35443759429097615, 0.21773096766649092, 0.14147648558222548, 0.4496394611127553, 0.30912225505940644]\n",
      "Iteration 60 done!\n"
     ]
    },
    {
     "name": "stderr",
     "output_type": "stream",
     "text": [
      " 31%|███       | 62/200 [33:15<1:08:19, 29.71s/it]"
     ]
    },
    {
     "name": "stdout",
     "output_type": "stream",
     "text": [
      "[0.3800178488094272, 0.1817318807807403, 0.11355696370961041, 0.5, 0.39058266099977673]\n",
      "Iteration 61 done!\n",
      "0.0\n"
     ]
    },
    {
     "name": "stderr",
     "output_type": "stream",
     "text": [
      " 32%|███▏      | 63/200 [33:48<1:10:00, 30.66s/it]"
     ]
    },
    {
     "name": "stdout",
     "output_type": "stream",
     "text": [
      "[0.2946990904993513, 0.13306668619610143, 0.17415466634285123, 0.4637082847931271, 0.36591476254685107]\n",
      "Iteration 62 done!\n"
     ]
    },
    {
     "name": "stderr",
     "output_type": "stream",
     "text": [
      " 32%|███▏      | 64/200 [34:18<1:09:35, 30.70s/it]"
     ]
    },
    {
     "name": "stdout",
     "output_type": "stream",
     "text": [
      "[0.2991991046482175, 0.25455448748628373, 0.2424159697268596, 0.4718077019759376, 0.3518462357704889]\n",
      "Iteration 63 done!\n",
      "0.0\n"
     ]
    },
    {
     "name": "stderr",
     "output_type": "stream",
     "text": [
      " 32%|███▎      | 65/200 [34:48<1:08:19, 30.37s/it]"
     ]
    },
    {
     "name": "stdout",
     "output_type": "stream",
     "text": [
      "[0.31526160083275856, 0.21765957073036823, 0.27856511029571907, 0.5, 0.2975558650951622]\n",
      "Iteration 64 done!\n"
     ]
    },
    {
     "name": "stderr",
     "output_type": "stream",
     "text": [
      " 33%|███▎      | 66/200 [35:16<1:06:04, 29.59s/it]"
     ]
    },
    {
     "name": "stdout",
     "output_type": "stream",
     "text": [
      "[0.35928732954258247, 0.16715978395807993, 0.2080677902012404, 0.4151632028624478, 0.225435466083361]\n",
      "Iteration 65 done!\n",
      "0.0\n"
     ]
    },
    {
     "name": "stderr",
     "output_type": "stream",
     "text": [
      " 34%|███▎      | 67/200 [35:45<1:05:18, 29.46s/it]"
     ]
    },
    {
     "name": "stdout",
     "output_type": "stream",
     "text": [
      "[0.40257658514320127, 0.1638251829328217, 0.24963635708600782, 0.5, 0.22454247709288305]\n",
      "Iteration 66 done!\n"
     ]
    },
    {
     "name": "stderr",
     "output_type": "stream",
     "text": [
      " 34%|███▍      | 68/200 [36:14<1:04:46, 29.44s/it]"
     ]
    },
    {
     "name": "stdout",
     "output_type": "stream",
     "text": [
      "[0.33172534833850315, 0.14919175231228124, 0.22700340125611637, 0.4844837271335687, 0.2671852990629713]\n",
      "Iteration 67 done!\n",
      "0.0\n"
     ]
    },
    {
     "name": "stderr",
     "output_type": "stream",
     "text": [
      " 34%|███▍      | 69/200 [36:40<1:02:00, 28.40s/it]"
     ]
    },
    {
     "name": "stdout",
     "output_type": "stream",
     "text": [
      "[0.25143902230817644, 0.1469819655645094, 0.1666006699161879, 0.491493335523578, 0.22921104200807313]\n",
      "Iteration 68 done!\n",
      "0.0\n"
     ]
    },
    {
     "name": "stderr",
     "output_type": "stream",
     "text": [
      " 35%|███▌      | 70/200 [37:06<1:00:01, 27.70s/it]"
     ]
    },
    {
     "name": "stdout",
     "output_type": "stream",
     "text": [
      "[0.24892550049457154, 0.21171363075151586, 0.1967257184066313, 0.5, 0.18514635532357274]\n",
      "Iteration 69 done!\n"
     ]
    },
    {
     "name": "stderr",
     "output_type": "stream",
     "text": [
      " 36%|███▌      | 71/200 [37:37<1:01:39, 28.67s/it]"
     ]
    },
    {
     "name": "stdout",
     "output_type": "stream",
     "text": [
      "[0.2533310085602499, 0.13065511388634102, 0.25190297178286, 0.5, 0.2336810560722805]\n",
      "Iteration 70 done!\n"
     ]
    },
    {
     "name": "stderr",
     "output_type": "stream",
     "text": [
      " 36%|███▌      | 72/200 [38:03<59:33, 27.92s/it]  "
     ]
    },
    {
     "name": "stdout",
     "output_type": "stream",
     "text": [
      "[0.22139844280591786, 0.12377110439246611, 0.21276205860428052, 0.4471947675375967, 0.238473900087253]\n",
      "Iteration 71 done!\n",
      "0.0\n"
     ]
    },
    {
     "name": "stderr",
     "output_type": "stream",
     "text": [
      " 36%|███▋      | 73/200 [38:28<56:51, 26.86s/it]"
     ]
    },
    {
     "name": "stdout",
     "output_type": "stream",
     "text": [
      "[0.23465379753153, 0.10074493333440042, 0.19585272275515708, 0.41839350901376327, 0.3343368768124566]\n",
      "Iteration 72 done!\n",
      "0.0\n"
     ]
    },
    {
     "name": "stderr",
     "output_type": "stream",
     "text": [
      " 37%|███▋      | 74/200 [38:51<54:20, 25.88s/it]"
     ]
    },
    {
     "name": "stdout",
     "output_type": "stream",
     "text": [
      "[0.30784883684024617, 0.09530223929776536, 0.20425400284313366, 0.38067727708644294, 0.26809758129249533]\n",
      "Iteration 73 done!\n",
      "0.0\n"
     ]
    },
    {
     "name": "stderr",
     "output_type": "stream",
     "text": [
      " 38%|███▊      | 75/200 [39:15<52:34, 25.24s/it]"
     ]
    },
    {
     "name": "stdout",
     "output_type": "stream",
     "text": [
      "[0.2571549483708082, 0.1626958425323977, 0.17876180337820444, 0.43273717387410704, 0.20977535412007614]\n",
      "Iteration 74 done!\n"
     ]
    },
    {
     "name": "stderr",
     "output_type": "stream",
     "text": [
      " 38%|███▊      | 76/200 [39:39<51:19, 24.83s/it]"
     ]
    },
    {
     "name": "stdout",
     "output_type": "stream",
     "text": [
      "[0.22402578370945592, 0.25097390141376075, 0.16640253511048372, 0.42662706632206987, 0.2702944845731643]\n",
      "Iteration 75 done!\n"
     ]
    },
    {
     "name": "stderr",
     "output_type": "stream",
     "text": [
      " 38%|███▊      | 77/200 [40:16<58:06, 28.35s/it]"
     ]
    },
    {
     "name": "stdout",
     "output_type": "stream",
     "text": [
      "[0.186098989633408, 0.10798131830406674, 0.1360546867097274, 0.35861050529273536, 0.22413082875734894]\n",
      "Iteration 76 done!\n"
     ]
    },
    {
     "name": "stderr",
     "output_type": "stream",
     "text": [
      " 39%|███▉      | 78/200 [41:00<1:07:16, 33.08s/it]"
     ]
    },
    {
     "name": "stdout",
     "output_type": "stream",
     "text": [
      "[0.11999257783089189, 0.09213596587378164, 0.21443720469910257, 0.3078866307419202, 0.2831629903403713]\n",
      "Iteration 77 done!\n",
      "0.0\n",
      "0.0\n"
     ]
    },
    {
     "name": "stderr",
     "output_type": "stream",
     "text": [
      " 40%|███▉      | 79/200 [41:38<1:09:50, 34.63s/it]"
     ]
    },
    {
     "name": "stdout",
     "output_type": "stream",
     "text": [
      "[0.10984712890172883, 0.11279723835808342, 0.11689883833052749, 0.2664316281361149, 0.3127289983690635]\n",
      "Iteration 78 done!\n",
      "0.0\n"
     ]
    },
    {
     "name": "stderr",
     "output_type": "stream",
     "text": [
      " 40%|████      | 80/200 [42:24<1:15:57, 37.98s/it]"
     ]
    },
    {
     "name": "stdout",
     "output_type": "stream",
     "text": [
      "[0.06244093158010171, 0.16910568381505264, 0.10008461995557771, 0.34154758156483866, 0.268066353189545]\n",
      "Iteration 79 done!\n"
     ]
    },
    {
     "name": "stderr",
     "output_type": "stream",
     "text": [
      " 40%|████      | 81/200 [42:59<1:13:44, 37.18s/it]"
     ]
    },
    {
     "name": "stdout",
     "output_type": "stream",
     "text": [
      "[0.1253783144511859, 0.1986582127730137, 0.04426288586418816, 0.32382733239781747, 0.34208489068882864]\n",
      "Iteration 80 done!\n"
     ]
    },
    {
     "name": "stderr",
     "output_type": "stream",
     "text": [
      " 41%|████      | 82/200 [43:35<1:12:30, 36.87s/it]"
     ]
    },
    {
     "name": "stdout",
     "output_type": "stream",
     "text": [
      "[0.1073459215765966, 0.13533805486439704, 0.04795814484819337, 0.25779011826677223, 0.3246898185424888]\n",
      "Iteration 81 done!\n",
      "0.0\n"
     ]
    },
    {
     "name": "stderr",
     "output_type": "stream",
     "text": [
      " 42%|████▏     | 83/200 [44:10<1:10:54, 36.36s/it]"
     ]
    },
    {
     "name": "stdout",
     "output_type": "stream",
     "text": [
      "[0.09142574287389195, 0.171702023661255, 0.04715445054008964, 0.2541869077417465, 0.275344187192323]\n",
      "Iteration 82 done!\n"
     ]
    },
    {
     "name": "stderr",
     "output_type": "stream",
     "text": [
      " 42%|████▏     | 84/200 [44:47<1:10:33, 36.50s/it]"
     ]
    },
    {
     "name": "stdout",
     "output_type": "stream",
     "text": [
      "[0.0925840468769969, 0.20096998566459193, 0.07999967167430629, 0.23211788231557676, 0.2648589011113823]\n",
      "Iteration 83 done!\n",
      "0.0\n",
      "0.0\n",
      "0.0\n"
     ]
    },
    {
     "name": "stderr",
     "output_type": "stream",
     "text": [
      " 42%|████▎     | 85/200 [45:24<1:10:02, 36.54s/it]"
     ]
    },
    {
     "name": "stdout",
     "output_type": "stream",
     "text": [
      "[0.0046732467167697744, 0.18058471385308078, 0.07446871774686553, 0.32034463851948486, 0.21884431857817555]\n",
      "Iteration 84 done!\n",
      "0.0\n"
     ]
    },
    {
     "name": "stderr",
     "output_type": "stream",
     "text": [
      " 43%|████▎     | 86/200 [45:59<1:08:50, 36.23s/it]"
     ]
    },
    {
     "name": "stdout",
     "output_type": "stream",
     "text": [
      "[0.044117225772980356, 0.11934234774612881, 0.01798178797253873, 0.3030360575245802, 0.285376278631261]\n",
      "Iteration 85 done!\n",
      "0.0\n"
     ]
    },
    {
     "name": "stderr",
     "output_type": "stream",
     "text": [
      " 44%|████▎     | 87/200 [46:34<1:07:03, 35.61s/it]"
     ]
    },
    {
     "name": "stdout",
     "output_type": "stream",
     "text": [
      "[0.11954616813508698, 0.13709325629086072, 0.04241495626358724, 0.339861411886236, 0.3141696663933136]\n",
      "Iteration 86 done!\n"
     ]
    },
    {
     "name": "stderr",
     "output_type": "stream",
     "text": [
      " 44%|████▍     | 88/200 [47:07<1:05:19, 35.00s/it]"
     ]
    },
    {
     "name": "stdout",
     "output_type": "stream",
     "text": [
      "[0.1373823821570166, 0.1738197172120851, 0.12516706733702385, 0.2974778144254842, 0.24431691523596494]\n",
      "Iteration 87 done!\n",
      "0.0\n",
      "0.0\n"
     ]
    },
    {
     "name": "stderr",
     "output_type": "stream",
     "text": [
      " 44%|████▍     | 89/200 [47:54<1:11:06, 38.44s/it]"
     ]
    },
    {
     "name": "stdout",
     "output_type": "stream",
     "text": [
      "[0.04783360524989447, 0.13136502715742693, 0.12325166435023616, 0.24881512769607428, 0.2673942176737749]\n",
      "Iteration 88 done!\n",
      "0.0\n"
     ]
    },
    {
     "name": "stderr",
     "output_type": "stream",
     "text": [
      " 45%|████▌     | 90/200 [48:34<1:11:28, 38.99s/it]"
     ]
    },
    {
     "name": "stdout",
     "output_type": "stream",
     "text": [
      "[0.08293802372243722, 0.1441734901518599, 0.09199197693458588, 0.27461713058767256, 0.3181882595777758]\n",
      "Iteration 89 done!\n"
     ]
    },
    {
     "name": "stderr",
     "output_type": "stream",
     "text": [
      " 46%|████▌     | 91/200 [49:11<1:09:36, 38.32s/it]"
     ]
    },
    {
     "name": "stdout",
     "output_type": "stream",
     "text": [
      "[0.09594017886936038, 0.15630604068382425, 0.11671296695991137, 0.29506399104770703, 0.4078633850543576]\n",
      "Iteration 90 done!\n"
     ]
    },
    {
     "name": "stderr",
     "output_type": "stream",
     "text": [
      " 46%|████▌     | 92/200 [49:47<1:07:53, 37.72s/it]"
     ]
    },
    {
     "name": "stdout",
     "output_type": "stream",
     "text": [
      "[0.17883313056418415, 0.22919956908139805, 0.11001404325947148, 0.29515073784140067, 0.4333467488275375]\n",
      "Iteration 91 done!\n"
     ]
    },
    {
     "name": "stderr",
     "output_type": "stream",
     "text": [
      " 46%|████▋     | 93/200 [50:21<1:05:09, 36.54s/it]"
     ]
    },
    {
     "name": "stdout",
     "output_type": "stream",
     "text": [
      "[0.21620264849383858, 0.22670253836731033, 0.1699033401568336, 0.22176007321645458, 0.5]\n",
      "Iteration 92 done!\n",
      "0.0\n",
      "0.0\n"
     ]
    },
    {
     "name": "stderr",
     "output_type": "stream",
     "text": [
      " 47%|████▋     | 94/200 [51:02<1:07:03, 37.95s/it]"
     ]
    },
    {
     "name": "stdout",
     "output_type": "stream",
     "text": [
      "[0.2533095946628702, 0.2253734675299961, 0.24735197563151326, 0.2849507288680071, 0.5]\n",
      "Iteration 93 done!\n"
     ]
    },
    {
     "name": "stderr",
     "output_type": "stream",
     "text": [
      " 48%|████▊     | 95/200 [51:52<1:12:34, 41.47s/it]"
     ]
    },
    {
     "name": "stdout",
     "output_type": "stream",
     "text": [
      "[0.22180863197576095, 0.2939227139210024, 0.2470215111805486, 0.22446633035773889, 0.44414745661504396]\n",
      "Iteration 94 done!\n",
      "0.0\n"
     ]
    },
    {
     "name": "stderr",
     "output_type": "stream",
     "text": [
      " 48%|████▊     | 96/200 [52:33<1:12:01, 41.55s/it]"
     ]
    },
    {
     "name": "stdout",
     "output_type": "stream",
     "text": [
      "[0.1473079329756256, 0.27355912361123114, 0.25998805974789285, 0.25080660742083866, 0.4169239629520478]\n",
      "Iteration 95 done!\n"
     ]
    },
    {
     "name": "stderr",
     "output_type": "stream",
     "text": [
      " 48%|████▊     | 97/200 [53:10<1:08:59, 40.18s/it]"
     ]
    },
    {
     "name": "stdout",
     "output_type": "stream",
     "text": [
      "[0.180901238577986, 0.3906941154240535, 0.2862215402342512, 0.24517876580677828, 0.43050359508941055]\n",
      "Iteration 96 done!\n",
      "0.0\n"
     ]
    },
    {
     "name": "stderr",
     "output_type": "stream",
     "text": [
      " 49%|████▉     | 98/200 [53:47<1:06:25, 39.08s/it]"
     ]
    },
    {
     "name": "stdout",
     "output_type": "stream",
     "text": [
      "[0.23667208062515693, 0.3411305227313436, 0.2630641267102053, 0.2470658922542884, 0.4501968879058403]\n",
      "Iteration 97 done!\n"
     ]
    },
    {
     "name": "stderr",
     "output_type": "stream",
     "text": [
      " 50%|████▉     | 99/200 [54:28<1:06:36, 39.57s/it]"
     ]
    },
    {
     "name": "stdout",
     "output_type": "stream",
     "text": [
      "[0.15798490921215969, 0.3959864243219473, 0.28335581429231627, 0.330074691619326, 0.5]\n",
      "Iteration 98 done!\n"
     ]
    },
    {
     "name": "stderr",
     "output_type": "stream",
     "text": [
      " 50%|█████     | 100/200 [55:09<1:07:00, 40.20s/it]"
     ]
    },
    {
     "name": "stdout",
     "output_type": "stream",
     "text": [
      "[0.18536215250484367, 0.48055443238394724, 0.4022457800307259, 0.35034467368701666, 0.43408984953887864]\n",
      "Iteration 99 done!\n",
      "0.0\n"
     ]
    },
    {
     "name": "stderr",
     "output_type": "stream",
     "text": [
      " 50%|█████     | 101/200 [55:46<1:04:45, 39.24s/it]"
     ]
    },
    {
     "name": "stdout",
     "output_type": "stream",
     "text": [
      "[0.15570189620887398, 0.5, 0.3433303495199654, 0.2685442447294536, 0.4461511128796366]\n",
      "Iteration 100 done!\n",
      "0.0\n"
     ]
    },
    {
     "name": "stderr",
     "output_type": "stream",
     "text": [
      " 51%|█████     | 102/200 [56:21<1:01:50, 37.86s/it]"
     ]
    },
    {
     "name": "stdout",
     "output_type": "stream",
     "text": [
      "[0.18733606505732292, 0.5, 0.28166436270154965, 0.3140051907835805, 0.38232698654631203]\n",
      "Iteration 101 done!\n",
      "0.0\n",
      "0.0\n"
     ]
    },
    {
     "name": "stderr",
     "output_type": "stream",
     "text": [
      " 52%|█████▏    | 103/200 [56:56<59:56, 37.08s/it]  "
     ]
    },
    {
     "name": "stdout",
     "output_type": "stream",
     "text": [
      "[0.09774297804368716, 0.45220929087042244, 0.2087547384857003, 0.3002987309290801, 0.3605259416372752]\n",
      "Iteration 102 done!\n",
      "0.0\n"
     ]
    },
    {
     "name": "stderr",
     "output_type": "stream",
     "text": [
      " 52%|█████▏    | 104/200 [57:34<59:33, 37.23s/it]"
     ]
    },
    {
     "name": "stdout",
     "output_type": "stream",
     "text": [
      "[0.07370515270733548, 0.42496263687715263, 0.17156420555401294, 0.3130899294208766, 0.4008814271654959]\n",
      "Iteration 103 done!\n"
     ]
    },
    {
     "name": "stderr",
     "output_type": "stream",
     "text": [
      " 52%|█████▎    | 105/200 [58:16<1:01:08, 38.61s/it]"
     ]
    },
    {
     "name": "stdout",
     "output_type": "stream",
     "text": [
      "[0.03479722098404679, 0.5, 0.1537609134038779, 0.2833258962544232, 0.34598148028263476]\n",
      "Iteration 104 done!\n",
      "0.0\n"
     ]
    },
    {
     "name": "stderr",
     "output_type": "stream",
     "text": [
      " 53%|█████▎    | 106/200 [58:50<58:28, 37.32s/it]  "
     ]
    },
    {
     "name": "stdout",
     "output_type": "stream",
     "text": [
      "[0.07292885351114041, 0.5, 0.11012417239841402, 0.2786549864469195, 0.30746041771529575]\n",
      "Iteration 105 done!\n"
     ]
    },
    {
     "name": "stderr",
     "output_type": "stream",
     "text": [
      " 54%|█████▎    | 107/200 [59:31<59:46, 38.56s/it]"
     ]
    },
    {
     "name": "stdout",
     "output_type": "stream",
     "text": [
      "[0.07388111152161157, 0.5, 0.03819232158662654, 0.2850103346956739, 0.2783718824655301]\n",
      "Iteration 106 done!\n",
      "0.0\n"
     ]
    },
    {
     "name": "stderr",
     "output_type": "stream",
     "text": [
      " 54%|█████▍    | 108/200 [1:00:02<55:16, 36.05s/it]"
     ]
    },
    {
     "name": "stdout",
     "output_type": "stream",
     "text": [
      "[0.15587840895930746, 0.5, 0.01, 0.3343232416052936, 0.2978415788035319]\n",
      "Iteration 107 done!\n"
     ]
    },
    {
     "name": "stderr",
     "output_type": "stream",
     "text": [
      " 55%|█████▍    | 109/200 [1:00:28<50:15, 33.14s/it]"
     ]
    },
    {
     "name": "stdout",
     "output_type": "stream",
     "text": [
      "[0.11440164473628339, 0.5, 0.01, 0.3482380439097311, 0.2119430204742783]\n",
      "Iteration 108 done!\n",
      "0.0\n",
      "0.0\n"
     ]
    },
    {
     "name": "stderr",
     "output_type": "stream",
     "text": [
      " 55%|█████▌    | 110/200 [1:00:59<48:39, 32.44s/it]"
     ]
    },
    {
     "name": "stdout",
     "output_type": "stream",
     "text": [
      "[0.020134705462595326, 0.4148867440499559, 0.01944175340529752, 0.3111893129532083, 0.21924550515345997]\n",
      "Iteration 109 done!\n",
      "0.0\n"
     ]
    },
    {
     "name": "stderr",
     "output_type": "stream",
     "text": [
      " 56%|█████▌    | 111/200 [1:01:23<44:28, 29.98s/it]"
     ]
    },
    {
     "name": "stdout",
     "output_type": "stream",
     "text": [
      "[0.01, 0.4199235177821966, 0.01, 0.21680086079850708, 0.19207567120078572]\n",
      "Iteration 110 done!\n"
     ]
    },
    {
     "name": "stderr",
     "output_type": "stream",
     "text": [
      " 56%|█████▌    | 112/200 [1:01:50<42:53, 29.25s/it]"
     ]
    },
    {
     "name": "stdout",
     "output_type": "stream",
     "text": [
      "[0.013315995637765435, 0.5, 0.01, 0.2028410106015497, 0.28917026625768355]\n",
      "Iteration 111 done!\n"
     ]
    },
    {
     "name": "stderr",
     "output_type": "stream",
     "text": [
      " 56%|█████▋    | 113/200 [1:02:17<41:00, 28.29s/it]"
     ]
    },
    {
     "name": "stdout",
     "output_type": "stream",
     "text": [
      "[0.040155643797756296, 0.4909358648748681, 0.05874085962594532, 0.17929257339507917, 0.36001817935537234]\n",
      "Iteration 112 done!\n",
      "0.0\n",
      "0.0\n"
     ]
    },
    {
     "name": "stderr",
     "output_type": "stream",
     "text": [
      " 57%|█████▋    | 114/200 [1:02:42<39:15, 27.39s/it]"
     ]
    },
    {
     "name": "stdout",
     "output_type": "stream",
     "text": [
      "[0.014781507756787653, 0.43398144627459584, 0.01, 0.21648360746217998, 0.3918539369873035]\n",
      "Iteration 113 done!\n",
      "0.0\n"
     ]
    },
    {
     "name": "stderr",
     "output_type": "stream",
     "text": [
      " 57%|█████▊    | 115/200 [1:03:09<38:44, 27.35s/it]"
     ]
    },
    {
     "name": "stdout",
     "output_type": "stream",
     "text": [
      "[0.01, 0.5, 0.01, 0.20212077929955735, 0.4122373087495207]\n",
      "Iteration 114 done!\n"
     ]
    },
    {
     "name": "stderr",
     "output_type": "stream",
     "text": [
      " 58%|█████▊    | 116/200 [1:03:34<37:10, 26.56s/it]"
     ]
    },
    {
     "name": "stdout",
     "output_type": "stream",
     "text": [
      "[0.01, 0.5, 0.01, 0.20786312649527353, 0.4493892862220469]\n",
      "Iteration 115 done!\n",
      "0.0\n",
      "0.0\n"
     ]
    },
    {
     "name": "stderr",
     "output_type": "stream",
     "text": [
      " 58%|█████▊    | 117/200 [1:03:58<35:48, 25.89s/it]"
     ]
    },
    {
     "name": "stdout",
     "output_type": "stream",
     "text": [
      "[0.008411933835490607, 0.5, 0.01, 0.19344661283759793, 0.4831500294883585]\n",
      "Iteration 116 done!\n",
      "0.0\n"
     ]
    },
    {
     "name": "stderr",
     "output_type": "stream",
     "text": [
      " 59%|█████▉    | 118/200 [1:04:23<34:48, 25.47s/it]"
     ]
    },
    {
     "name": "stdout",
     "output_type": "stream",
     "text": [
      "[0.01, 0.47250731967362913, 0.0328348781245048, 0.13701196279946495, 0.4339413904027313]\n",
      "Iteration 117 done!\n"
     ]
    },
    {
     "name": "stderr",
     "output_type": "stream",
     "text": [
      " 60%|█████▉    | 119/200 [1:04:50<35:08, 26.04s/it]"
     ]
    },
    {
     "name": "stdout",
     "output_type": "stream",
     "text": [
      "[0.01, 0.4831575354672136, 0.03911053028001912, 0.11358158174101442, 0.4473209915019448]\n",
      "Iteration 118 done!\n",
      "0.0\n"
     ]
    },
    {
     "name": "stderr",
     "output_type": "stream",
     "text": [
      " 60%|██████    | 120/200 [1:05:19<35:44, 26.81s/it]"
     ]
    },
    {
     "name": "stdout",
     "output_type": "stream",
     "text": [
      "[0.007794528343555139, 0.49431124912907015, 0.0027776404170366323, 0.019581201622591943, 0.48764818468903265]\n",
      "Iteration 119 done!\n"
     ]
    },
    {
     "name": "stderr",
     "output_type": "stream",
     "text": [
      " 60%|██████    | 121/200 [1:05:44<34:35, 26.27s/it]"
     ]
    },
    {
     "name": "stdout",
     "output_type": "stream",
     "text": [
      "[0.003156773329182772, 0.48772955999181694, 0.01, 0.01, 0.4777672166108718]\n",
      "Iteration 120 done!\n",
      "0.0\n"
     ]
    },
    {
     "name": "stderr",
     "output_type": "stream",
     "text": [
      " 61%|██████    | 122/200 [1:06:08<33:23, 25.69s/it]"
     ]
    },
    {
     "name": "stdout",
     "output_type": "stream",
     "text": [
      "[0.01, 0.49085516684288577, 0.0022158333486730405, 0.07802811660883252, 0.4481878326588183]\n",
      "Iteration 121 done!\n"
     ]
    },
    {
     "name": "stderr",
     "output_type": "stream",
     "text": [
      " 62%|██████▏   | 123/200 [1:06:40<35:23, 27.58s/it]"
     ]
    },
    {
     "name": "stdout",
     "output_type": "stream",
     "text": [
      "[0.01, 0.42764838382322184, 0.020636587709734366, 0.05805194787035515, 0.48719862399511177]\n",
      "Iteration 122 done!\n"
     ]
    },
    {
     "name": "stderr",
     "output_type": "stream",
     "text": [
      " 62%|██████▏   | 124/200 [1:07:07<34:33, 27.28s/it]"
     ]
    },
    {
     "name": "stdout",
     "output_type": "stream",
     "text": [
      "[0.04671810344864219, 0.4367740407069629, 0.01, 0.03264472184603372, 0.4922629306495276]\n",
      "Iteration 123 done!\n"
     ]
    },
    {
     "name": "stderr",
     "output_type": "stream",
     "text": [
      " 62%|██████▎   | 125/200 [1:07:31<33:10, 26.53s/it]"
     ]
    },
    {
     "name": "stdout",
     "output_type": "stream",
     "text": [
      "[0.013984008981849087, 0.4378312381212436, 0.01, 0.08214481383879013, 0.4642186228226416]\n",
      "Iteration 124 done!\n",
      "0.0\n"
     ]
    },
    {
     "name": "stderr",
     "output_type": "stream",
     "text": [
      " 63%|██████▎   | 126/200 [1:07:56<31:53, 25.85s/it]"
     ]
    },
    {
     "name": "stdout",
     "output_type": "stream",
     "text": [
      "[0.01, 0.43723807648797947, 0.04134773989387024, 0.15624065796716635, 0.46760629677970844]\n",
      "Iteration 125 done!\n",
      "0.0\n"
     ]
    },
    {
     "name": "stderr",
     "output_type": "stream",
     "text": [
      " 64%|██████▎   | 127/200 [1:08:20<30:49, 25.33s/it]"
     ]
    },
    {
     "name": "stdout",
     "output_type": "stream",
     "text": [
      "[0.04649308905436704, 0.34635720294830197, 0.016662163122539646, 0.15717180121022062, 0.5]\n",
      "Iteration 126 done!\n"
     ]
    },
    {
     "name": "stderr",
     "output_type": "stream",
     "text": [
      " 64%|██████▍   | 128/200 [1:08:43<29:38, 24.70s/it]"
     ]
    },
    {
     "name": "stdout",
     "output_type": "stream",
     "text": [
      "[0.07927260642043424, 0.3558886067546491, 0.07310578775487697, 0.16375764236493184, 0.5]\n",
      "Iteration 127 done!\n",
      "0.0\n",
      "0.0\n",
      "0.0\n"
     ]
    },
    {
     "name": "stderr",
     "output_type": "stream",
     "text": [
      " 64%|██████▍   | 129/200 [1:09:06<28:42, 24.26s/it]"
     ]
    },
    {
     "name": "stdout",
     "output_type": "stream",
     "text": [
      "[0.03668807010338919, 0.36758700826976726, 0.18544944367370442, 0.1356281077809006, 0.44671268437022066]\n",
      "Iteration 128 done!\n"
     ]
    },
    {
     "name": "stderr",
     "output_type": "stream",
     "text": [
      " 65%|██████▌   | 130/200 [1:09:30<28:08, 24.13s/it]"
     ]
    },
    {
     "name": "stdout",
     "output_type": "stream",
     "text": [
      "[0.06415014402482647, 0.385978842630189, 0.1586951452963002, 0.0628848219290325, 0.4475754754657614]\n",
      "Iteration 129 done!\n"
     ]
    },
    {
     "name": "stderr",
     "output_type": "stream",
     "text": [
      " 66%|██████▌   | 131/200 [1:09:59<29:25, 25.58s/it]"
     ]
    },
    {
     "name": "stdout",
     "output_type": "stream",
     "text": [
      "[0.13142407906685058, 0.4148383492958136, 0.0778726667677074, 0.01, 0.43151452565388415]\n",
      "Iteration 130 done!\n"
     ]
    },
    {
     "name": "stderr",
     "output_type": "stream",
     "text": [
      " 66%|██████▌   | 132/200 [1:10:26<29:34, 26.09s/it]"
     ]
    },
    {
     "name": "stdout",
     "output_type": "stream",
     "text": [
      "[0.18604267217708917, 0.42976990843827867, 0.054415157910783093, 0.07360365714224976, 0.39417766684304023]\n",
      "Iteration 131 done!\n",
      "0.0\n"
     ]
    },
    {
     "name": "stderr",
     "output_type": "stream",
     "text": [
      " 66%|██████▋   | 133/200 [1:10:52<29:03, 26.02s/it]"
     ]
    },
    {
     "name": "stdout",
     "output_type": "stream",
     "text": [
      "[0.11195831999153938, 0.40117484082544813, 0.06660960035800079, 0.02504938926189458, 0.4212595029708597]\n",
      "Iteration 132 done!\n",
      "0.0\n"
     ]
    },
    {
     "name": "stderr",
     "output_type": "stream",
     "text": [
      " 67%|██████▋   | 134/200 [1:11:21<29:32, 26.86s/it]"
     ]
    },
    {
     "name": "stdout",
     "output_type": "stream",
     "text": [
      "[0.14782593646314024, 0.34240172163664884, 0.15702464391245397, 0.02148030016913813, 0.5]\n",
      "Iteration 133 done!\n",
      "0.0\n"
     ]
    },
    {
     "name": "stderr",
     "output_type": "stream",
     "text": [
      " 68%|██████▊   | 135/200 [1:11:51<30:00, 27.70s/it]"
     ]
    },
    {
     "name": "stdout",
     "output_type": "stream",
     "text": [
      "[0.2181281896611431, 0.3081747091526127, 0.1629453040714661, 0.07585672231789724, 0.44536250203861094]\n",
      "Iteration 134 done!\n"
     ]
    },
    {
     "name": "stderr",
     "output_type": "stream",
     "text": [
      " 68%|██████▊   | 136/200 [1:12:17<29:07, 27.30s/it]"
     ]
    },
    {
     "name": "stdout",
     "output_type": "stream",
     "text": [
      "[0.21147673363602632, 0.34538570143257064, 0.12619769043287807, 0.12327636296730742, 0.5]\n",
      "Iteration 135 done!\n",
      "0.0\n"
     ]
    },
    {
     "name": "stderr",
     "output_type": "stream",
     "text": [
      " 68%|██████▊   | 137/200 [1:12:43<28:13, 26.89s/it]"
     ]
    },
    {
     "name": "stdout",
     "output_type": "stream",
     "text": [
      "[0.17994567732849928, 0.3980800445888894, 0.12893307928443773, 0.10497461062718588, 0.5]\n",
      "Iteration 136 done!\n"
     ]
    },
    {
     "name": "stderr",
     "output_type": "stream",
     "text": [
      " 69%|██████▉   | 138/200 [1:13:09<27:35, 26.69s/it]"
     ]
    },
    {
     "name": "stdout",
     "output_type": "stream",
     "text": [
      "[0.1559081691205513, 0.40653480819885657, 0.1342547710486437, 0.05381801188808457, 0.5]\n",
      "Iteration 137 done!\n",
      "0.0\n"
     ]
    },
    {
     "name": "stderr",
     "output_type": "stream",
     "text": [
      " 70%|██████▉   | 139/200 [1:13:35<26:50, 26.41s/it]"
     ]
    },
    {
     "name": "stdout",
     "output_type": "stream",
     "text": [
      "[0.12681714890946533, 0.2640999766141331, 0.13776502395796164, 0.01, 0.5]\n",
      "Iteration 138 done!\n"
     ]
    },
    {
     "name": "stderr",
     "output_type": "stream",
     "text": [
      " 70%|███████   | 140/200 [1:14:02<26:35, 26.59s/it]"
     ]
    },
    {
     "name": "stdout",
     "output_type": "stream",
     "text": [
      "[0.08185973143117187, 0.3016157552821591, 0.07097077876497679, 0.018856115264698797, 0.5]\n",
      "Iteration 139 done!\n",
      "0.0\n"
     ]
    },
    {
     "name": "stderr",
     "output_type": "stream",
     "text": [
      " 70%|███████   | 141/200 [1:14:29<26:22, 26.82s/it]"
     ]
    },
    {
     "name": "stdout",
     "output_type": "stream",
     "text": [
      "[0.11046354764255, 0.3598283049604081, 0.03993941180154059, 0.01, 0.49203129358075315]\n",
      "Iteration 140 done!\n"
     ]
    },
    {
     "name": "stderr",
     "output_type": "stream",
     "text": [
      " 71%|███████   | 142/200 [1:14:55<25:30, 26.39s/it]"
     ]
    },
    {
     "name": "stdout",
     "output_type": "stream",
     "text": [
      "[0.10781655338186305, 0.30123022833794366, 0.0263195348772714, 0.014145767193794541, 0.4463312540525163]\n",
      "Iteration 141 done!\n"
     ]
    },
    {
     "name": "stderr",
     "output_type": "stream",
     "text": [
      " 72%|███████▏  | 143/200 [1:15:22<25:24, 26.75s/it]"
     ]
    },
    {
     "name": "stdout",
     "output_type": "stream",
     "text": [
      "[0.21815853072155356, 0.18989101230641034, 0.09468798754337225, 0.05389004477518228, 0.4375748516355724]\n",
      "Iteration 142 done!\n"
     ]
    },
    {
     "name": "stderr",
     "output_type": "stream",
     "text": [
      " 72%|███████▏  | 144/200 [1:15:50<25:23, 27.21s/it]"
     ]
    },
    {
     "name": "stdout",
     "output_type": "stream",
     "text": [
      "[0.20532679513059904, 0.2031242281798657, 0.03394899674001571, 0.11914801453597304, 0.42762929072748596]\n",
      "Iteration 143 done!\n",
      "0.0\n"
     ]
    },
    {
     "name": "stderr",
     "output_type": "stream",
     "text": [
      " 72%|███████▎  | 145/200 [1:16:19<25:23, 27.70s/it]"
     ]
    },
    {
     "name": "stdout",
     "output_type": "stream",
     "text": [
      "[0.24184268513707588, 0.1590092169506136, 0.06637785167839783, 0.11038554021547846, 0.40458424150407246]\n",
      "Iteration 144 done!\n"
     ]
    },
    {
     "name": "stderr",
     "output_type": "stream",
     "text": [
      " 73%|███████▎  | 146/200 [1:16:45<24:21, 27.06s/it]"
     ]
    },
    {
     "name": "stdout",
     "output_type": "stream",
     "text": [
      "[0.2235048968545753, 0.2646614885962944, 0.13516786991397878, 0.15656420442681918, 0.3313789561044281]\n",
      "Iteration 145 done!\n",
      "0.0\n"
     ]
    },
    {
     "name": "stderr",
     "output_type": "stream",
     "text": [
      " 74%|███████▎  | 147/200 [1:17:10<23:26, 26.54s/it]"
     ]
    },
    {
     "name": "stdout",
     "output_type": "stream",
     "text": [
      "[0.284694255185307, 0.22285003325753797, 0.106562942736259, 0.1521395037477544, 0.266953296179538]\n",
      "Iteration 146 done!\n"
     ]
    },
    {
     "name": "stderr",
     "output_type": "stream",
     "text": [
      " 74%|███████▍  | 148/200 [1:17:37<23:01, 26.57s/it]"
     ]
    },
    {
     "name": "stdout",
     "output_type": "stream",
     "text": [
      "[0.2571234542644957, 0.3017478321349983, 0.20756498863876982, 0.13826505768250186, 0.29353657432077973]\n",
      "Iteration 147 done!\n",
      "0.0\n"
     ]
    },
    {
     "name": "stderr",
     "output_type": "stream",
     "text": [
      " 74%|███████▍  | 149/200 [1:18:03<22:35, 26.58s/it]"
     ]
    },
    {
     "name": "stdout",
     "output_type": "stream",
     "text": [
      "[0.26221132487882254, 0.24378916807304907, 0.19044750580284464, 0.23325396847215743, 0.3401156986193745]\n",
      "Iteration 148 done!\n",
      "0.0\n"
     ]
    },
    {
     "name": "stderr",
     "output_type": "stream",
     "text": [
      " 75%|███████▌  | 150/200 [1:18:32<22:38, 27.16s/it]"
     ]
    },
    {
     "name": "stdout",
     "output_type": "stream",
     "text": [
      "[0.3371420018168626, 0.29221841249477504, 0.1887302649132775, 0.2837323100130749, 0.41916330283535236]\n",
      "Iteration 149 done!\n",
      "0.0\n"
     ]
    },
    {
     "name": "stderr",
     "output_type": "stream",
     "text": [
      " 76%|███████▌  | 151/200 [1:18:57<21:38, 26.50s/it]"
     ]
    },
    {
     "name": "stdout",
     "output_type": "stream",
     "text": [
      "[0.4227884081483285, 0.39220955505746485, 0.25004640030308267, 0.2007340322321861, 0.44620745748892643]\n",
      "Iteration 150 done!\n"
     ]
    },
    {
     "name": "stderr",
     "output_type": "stream",
     "text": [
      " 76%|███████▌  | 152/200 [1:19:22<20:46, 25.97s/it]"
     ]
    },
    {
     "name": "stdout",
     "output_type": "stream",
     "text": [
      "[0.5, 0.4710693119656843, 0.25292218316784687, 0.1892880334267754, 0.47228717457323305]\n",
      "Iteration 151 done!\n",
      "0.0\n"
     ]
    },
    {
     "name": "stderr",
     "output_type": "stream",
     "text": [
      " 76%|███████▋  | 153/200 [1:19:46<20:00, 25.55s/it]"
     ]
    },
    {
     "name": "stdout",
     "output_type": "stream",
     "text": [
      "[0.5, 0.3839418282030803, 0.3005733995183104, 0.22565096343028418, 0.5]\n",
      "Iteration 152 done!\n",
      "0.0\n"
     ]
    },
    {
     "name": "stderr",
     "output_type": "stream",
     "text": [
      " 77%|███████▋  | 154/200 [1:20:13<19:53, 25.95s/it]"
     ]
    },
    {
     "name": "stdout",
     "output_type": "stream",
     "text": [
      "[0.48180100110866503, 0.3980720865741135, 0.2780686609886164, 0.26557132589459315, 0.49720201438798123]\n",
      "Iteration 153 done!\n",
      "0.0\n"
     ]
    },
    {
     "name": "stderr",
     "output_type": "stream",
     "text": [
      " 78%|███████▊  | 155/200 [1:20:43<20:25, 27.23s/it]"
     ]
    },
    {
     "name": "stdout",
     "output_type": "stream",
     "text": [
      "[0.44086474090935346, 0.4091082057504546, 0.32267650428416855, 0.2883838622222642, 0.42486239380583635]\n",
      "Iteration 154 done!\n"
     ]
    },
    {
     "name": "stderr",
     "output_type": "stream",
     "text": [
      " 78%|███████▊  | 156/200 [1:21:17<21:19, 29.09s/it]"
     ]
    },
    {
     "name": "stdout",
     "output_type": "stream",
     "text": [
      "[0.49079469741500886, 0.4006999301523534, 0.38887324615122704, 0.2634999693734499, 0.4360778265515877]\n",
      "Iteration 155 done!\n"
     ]
    },
    {
     "name": "stderr",
     "output_type": "stream",
     "text": [
      " 78%|███████▊  | 157/200 [1:21:51<21:51, 30.50s/it]"
     ]
    },
    {
     "name": "stdout",
     "output_type": "stream",
     "text": [
      "[0.5, 0.4437852790539856, 0.30383563645853173, 0.25021568035618225, 0.35394465532663616]\n",
      "Iteration 156 done!\n"
     ]
    },
    {
     "name": "stderr",
     "output_type": "stream",
     "text": [
      " 79%|███████▉  | 158/200 [1:22:25<22:12, 31.73s/it]"
     ]
    },
    {
     "name": "stdout",
     "output_type": "stream",
     "text": [
      "[0.47383175941967154, 0.48432358552721294, 0.2785670884637786, 0.22624882289170975, 0.3800160893815675]\n",
      "Iteration 157 done!\n",
      "0.0\n",
      "0.0\n"
     ]
    },
    {
     "name": "stderr",
     "output_type": "stream",
     "text": [
      " 80%|███████▉  | 159/200 [1:22:59<22:06, 32.36s/it]"
     ]
    },
    {
     "name": "stdout",
     "output_type": "stream",
     "text": [
      "[0.5, 0.5, 0.26348918221579154, 0.2095556000855551, 0.3935669136698163]\n",
      "Iteration 158 done!\n"
     ]
    },
    {
     "name": "stderr",
     "output_type": "stream",
     "text": [
      " 80%|████████  | 160/200 [1:23:30<21:20, 32.01s/it]"
     ]
    },
    {
     "name": "stdout",
     "output_type": "stream",
     "text": [
      "[0.5, 0.4781389971302409, 0.1769993114852378, 0.3046658986556321, 0.44412237902996543]\n",
      "Iteration 159 done!\n"
     ]
    },
    {
     "name": "stderr",
     "output_type": "stream",
     "text": [
      " 80%|████████  | 161/200 [1:24:02<20:49, 32.04s/it]"
     ]
    },
    {
     "name": "stdout",
     "output_type": "stream",
     "text": [
      "[0.5, 0.4419593500098773, 0.1027000268817462, 0.35115544672721444, 0.5]\n",
      "Iteration 160 done!\n",
      "0.0\n"
     ]
    },
    {
     "name": "stderr",
     "output_type": "stream",
     "text": [
      " 81%|████████  | 162/200 [1:24:30<19:33, 30.87s/it]"
     ]
    },
    {
     "name": "stdout",
     "output_type": "stream",
     "text": [
      "[0.46649720707364317, 0.461551720243469, 0.10521802802426819, 0.4116518488693357, 0.5]\n",
      "Iteration 161 done!\n",
      "0.0\n"
     ]
    },
    {
     "name": "stderr",
     "output_type": "stream",
     "text": [
      " 82%|████████▏ | 163/200 [1:24:59<18:35, 30.15s/it]"
     ]
    },
    {
     "name": "stdout",
     "output_type": "stream",
     "text": [
      "[0.43395908248128023, 0.4787121807258859, 0.16862430424592592, 0.3558285613865145, 0.5]\n",
      "Iteration 162 done!\n"
     ]
    },
    {
     "name": "stderr",
     "output_type": "stream",
     "text": [
      " 82%|████████▏ | 164/200 [1:25:30<18:14, 30.39s/it]"
     ]
    },
    {
     "name": "stdout",
     "output_type": "stream",
     "text": [
      "[0.4656034586164338, 0.45918580190796476, 0.15044397592222955, 0.22584992319205707, 0.43498600058952713]\n",
      "Iteration 163 done!\n",
      "0.0\n"
     ]
    },
    {
     "name": "stderr",
     "output_type": "stream",
     "text": [
      " 82%|████████▎ | 165/200 [1:25:55<16:50, 28.87s/it]"
     ]
    },
    {
     "name": "stdout",
     "output_type": "stream",
     "text": [
      "[0.44810000054102833, 0.39984906078908644, 0.22406427662613845, 0.18285188839528282, 0.40963962186943975]\n",
      "Iteration 164 done!\n",
      "0.0\n"
     ]
    },
    {
     "name": "stderr",
     "output_type": "stream",
     "text": [
      " 83%|████████▎ | 166/200 [1:26:19<15:29, 27.33s/it]"
     ]
    },
    {
     "name": "stdout",
     "output_type": "stream",
     "text": [
      "[0.4535562731792964, 0.43835468073328965, 0.25203753762978387, 0.24081913397749713, 0.4395595332792783]\n",
      "Iteration 165 done!\n",
      "0.0\n"
     ]
    },
    {
     "name": "stderr",
     "output_type": "stream",
     "text": [
      " 84%|████████▎ | 167/200 [1:26:42<14:21, 26.10s/it]"
     ]
    },
    {
     "name": "stdout",
     "output_type": "stream",
     "text": [
      "[0.46842563091746714, 0.3826833624057134, 0.30564512043034914, 0.22932849846853393, 0.4463298189333205]\n",
      "Iteration 166 done!\n"
     ]
    },
    {
     "name": "stderr",
     "output_type": "stream",
     "text": [
      " 84%|████████▍ | 168/200 [1:27:05<13:24, 25.15s/it]"
     ]
    },
    {
     "name": "stdout",
     "output_type": "stream",
     "text": [
      "[0.4854629476762616, 0.43812958033055316, 0.3319564854382328, 0.2512289881043539, 0.5]\n",
      "Iteration 167 done!\n",
      "0.0\n"
     ]
    },
    {
     "name": "stderr",
     "output_type": "stream",
     "text": [
      " 84%|████████▍ | 169/200 [1:27:29<12:48, 24.79s/it]"
     ]
    },
    {
     "name": "stdout",
     "output_type": "stream",
     "text": [
      "[0.46698369135062273, 0.4371057603875163, 0.3321425202035311, 0.18511731957667021, 0.5]\n",
      "Iteration 168 done!\n"
     ]
    },
    {
     "name": "stderr",
     "output_type": "stream",
     "text": [
      " 85%|████████▌ | 170/200 [1:27:52<12:11, 24.39s/it]"
     ]
    },
    {
     "name": "stdout",
     "output_type": "stream",
     "text": [
      "[0.37733511163299915, 0.3502217180776801, 0.3410924066551756, 0.1093193705946116, 0.5]\n",
      "Iteration 169 done!\n",
      "0.0\n"
     ]
    },
    {
     "name": "stderr",
     "output_type": "stream",
     "text": [
      " 86%|████████▌ | 171/200 [1:28:16<11:37, 24.06s/it]"
     ]
    },
    {
     "name": "stdout",
     "output_type": "stream",
     "text": [
      "[0.43764673611421223, 0.37384841861486673, 0.4044052964685114, 0.050111571139841965, 0.5]\n",
      "Iteration 170 done!\n",
      "0.0\n"
     ]
    },
    {
     "name": "stderr",
     "output_type": "stream",
     "text": [
      " 86%|████████▌ | 172/200 [1:28:39<11:04, 23.74s/it]"
     ]
    },
    {
     "name": "stdout",
     "output_type": "stream",
     "text": [
      "[0.467287340673808, 0.4019392544913707, 0.4617077918468198, 0.08550317756655987, 0.5]\n",
      "Iteration 171 done!\n",
      "0.0\n",
      "0.0\n"
     ]
    },
    {
     "name": "stderr",
     "output_type": "stream",
     "text": [
      " 86%|████████▋ | 173/200 [1:29:02<10:38, 23.66s/it]"
     ]
    },
    {
     "name": "stdout",
     "output_type": "stream",
     "text": [
      "[0.43823000524495265, 0.5, 0.43422658211354664, 0.11893516153253839, 0.5]\n",
      "Iteration 172 done!\n"
     ]
    },
    {
     "name": "stderr",
     "output_type": "stream",
     "text": [
      " 87%|████████▋ | 174/200 [1:29:25<10:10, 23.48s/it]"
     ]
    },
    {
     "name": "stdout",
     "output_type": "stream",
     "text": [
      "[0.3620672086696941, 0.5, 0.4390348056912298, 0.19434093439147732, 0.4976149161778026]\n",
      "Iteration 173 done!\n",
      "0.0\n",
      "0.0\n",
      "0.0\n",
      "0.0\n"
     ]
    },
    {
     "name": "stderr",
     "output_type": "stream",
     "text": [
      " 88%|████████▊ | 175/200 [1:29:48<09:43, 23.33s/it]"
     ]
    },
    {
     "name": "stdout",
     "output_type": "stream",
     "text": [
      "[0.35843238363327207, 0.49938220065491806, 0.3819072340485212, 0.10450418024173445, 0.5]\n",
      "Iteration 174 done!\n",
      "0.0\n"
     ]
    },
    {
     "name": "stderr",
     "output_type": "stream",
     "text": [
      " 88%|████████▊ | 176/200 [1:30:11<09:17, 23.25s/it]"
     ]
    },
    {
     "name": "stdout",
     "output_type": "stream",
     "text": [
      "[0.3367671188820412, 0.5, 0.4177663033733241, 0.12262235278480017, 0.5]\n",
      "Iteration 175 done!\n"
     ]
    },
    {
     "name": "stderr",
     "output_type": "stream",
     "text": [
      " 88%|████████▊ | 177/200 [1:30:34<08:53, 23.22s/it]"
     ]
    },
    {
     "name": "stdout",
     "output_type": "stream",
     "text": [
      "[0.30436082322600083, 0.5, 0.4611597382749696, 0.0824027624308434, 0.5]\n",
      "Iteration 176 done!\n"
     ]
    },
    {
     "name": "stderr",
     "output_type": "stream",
     "text": [
      " 89%|████████▉ | 178/200 [1:31:00<08:44, 23.86s/it]"
     ]
    },
    {
     "name": "stdout",
     "output_type": "stream",
     "text": [
      "[0.2868811951454117, 0.40232875283851854, 0.44356648253464925, 0.17341594184817505, 0.5]\n",
      "Iteration 177 done!\n",
      "0.0\n"
     ]
    },
    {
     "name": "stderr",
     "output_type": "stream",
     "text": [
      " 90%|████████▉ | 179/200 [1:31:27<08:42, 24.90s/it]"
     ]
    },
    {
     "name": "stdout",
     "output_type": "stream",
     "text": [
      "[0.30536492845317864, 0.29529371344049365, 0.4472197279902673, 0.26068497809166763, 0.5]\n",
      "Iteration 178 done!\n",
      "0.0\n"
     ]
    },
    {
     "name": "stderr",
     "output_type": "stream",
     "text": [
      " 90%|█████████ | 180/200 [1:31:51<08:12, 24.64s/it]"
     ]
    },
    {
     "name": "stdout",
     "output_type": "stream",
     "text": [
      "[0.25753333407963724, 0.30495469201612974, 0.4574883719179185, 0.2760804075149684, 0.5]\n",
      "Iteration 179 done!\n",
      "0.0\n"
     ]
    },
    {
     "name": "stderr",
     "output_type": "stream",
     "text": [
      " 90%|█████████ | 181/200 [1:32:17<07:54, 24.95s/it]"
     ]
    },
    {
     "name": "stdout",
     "output_type": "stream",
     "text": [
      "[0.29608780733941636, 0.35617023380048307, 0.36915114866781906, 0.23944137909518526, 0.4340398402140522]\n",
      "Iteration 180 done!\n"
     ]
    },
    {
     "name": "stderr",
     "output_type": "stream",
     "text": [
      " 91%|█████████ | 182/200 [1:32:51<08:17, 27.65s/it]"
     ]
    },
    {
     "name": "stdout",
     "output_type": "stream",
     "text": [
      "[0.30125107332327755, 0.49250151709017, 0.38789612452371347, 0.18271970435602453, 0.5]\n",
      "Iteration 181 done!\n"
     ]
    },
    {
     "name": "stderr",
     "output_type": "stream",
     "text": [
      " 92%|█████████▏| 183/200 [1:33:21<08:01, 28.34s/it]"
     ]
    },
    {
     "name": "stdout",
     "output_type": "stream",
     "text": [
      "[0.33724377609585, 0.5, 0.4594187162431519, 0.21612600289608472, 0.46007834877866083]\n",
      "Iteration 182 done!\n"
     ]
    },
    {
     "name": "stderr",
     "output_type": "stream",
     "text": [
      " 92%|█████████▏| 184/200 [1:33:49<07:33, 28.31s/it]"
     ]
    },
    {
     "name": "stdout",
     "output_type": "stream",
     "text": [
      "[0.2763463654596219, 0.4062304531932699, 0.4453389636704632, 0.2811589384243686, 0.37141605148933293]\n",
      "Iteration 183 done!\n",
      "0.0\n"
     ]
    },
    {
     "name": "stderr",
     "output_type": "stream",
     "text": [
      " 92%|█████████▎| 185/200 [1:34:19<07:12, 28.81s/it]"
     ]
    },
    {
     "name": "stdout",
     "output_type": "stream",
     "text": [
      "[0.29809238972356317, 0.429170989202236, 0.5, 0.34099312214135147, 0.39876188392284045]\n",
      "Iteration 184 done!\n",
      "0.0\n"
     ]
    },
    {
     "name": "stderr",
     "output_type": "stream",
     "text": [
      " 93%|█████████▎| 186/200 [1:34:44<06:28, 27.73s/it]"
     ]
    },
    {
     "name": "stdout",
     "output_type": "stream",
     "text": [
      "[0.19124430554463762, 0.4634381331759787, 0.46562523378853204, 0.3941306125970784, 0.3771816188564244]\n",
      "Iteration 185 done!\n"
     ]
    },
    {
     "name": "stderr",
     "output_type": "stream",
     "text": [
      " 94%|█████████▎| 187/200 [1:35:10<05:53, 27.16s/it]"
     ]
    },
    {
     "name": "stdout",
     "output_type": "stream",
     "text": [
      "[0.12309951215963537, 0.4755726790660809, 0.5, 0.3870006290197804, 0.41517693007017004]\n",
      "Iteration 186 done!\n",
      "0.0\n"
     ]
    },
    {
     "name": "stderr",
     "output_type": "stream",
     "text": [
      " 94%|█████████▍| 188/200 [1:35:36<05:21, 26.82s/it]"
     ]
    },
    {
     "name": "stdout",
     "output_type": "stream",
     "text": [
      "[0.13867018344633336, 0.49211558341142114, 0.5, 0.4545816421224448, 0.45112304160559946]\n",
      "Iteration 187 done!\n",
      "0.0\n",
      "0.0\n",
      "0.0\n"
     ]
    },
    {
     "name": "stderr",
     "output_type": "stream",
     "text": [
      " 94%|█████████▍| 189/200 [1:36:02<04:53, 26.66s/it]"
     ]
    },
    {
     "name": "stdout",
     "output_type": "stream",
     "text": [
      "[0.09106634028162411, 0.46915498396076927, 0.4523475892978749, 0.4008710024901371, 0.5]\n",
      "Iteration 188 done!\n",
      "0.0\n",
      "0.0\n"
     ]
    },
    {
     "name": "stderr",
     "output_type": "stream",
     "text": [
      " 95%|█████████▌| 190/200 [1:36:28<04:23, 26.33s/it]"
     ]
    },
    {
     "name": "stdout",
     "output_type": "stream",
     "text": [
      "[0.11768488202622784, 0.4321323838482762, 0.47488675480456044, 0.3546698758718262, 0.5]\n",
      "Iteration 189 done!\n",
      "0.0\n",
      "0.0\n"
     ]
    },
    {
     "name": "stderr",
     "output_type": "stream",
     "text": [
      " 96%|█████████▌| 191/200 [1:36:53<03:54, 26.04s/it]"
     ]
    },
    {
     "name": "stdout",
     "output_type": "stream",
     "text": [
      "[0.018607807472997298, 0.5, 0.5, 0.2853899963890878, 0.4504244106722336]\n",
      "Iteration 190 done!\n"
     ]
    },
    {
     "name": "stderr",
     "output_type": "stream",
     "text": [
      " 96%|█████████▌| 192/200 [1:37:20<03:29, 26.13s/it]"
     ]
    },
    {
     "name": "stdout",
     "output_type": "stream",
     "text": [
      "[0.01, 0.5, 0.4821218383564799, 0.2959983504074129, 0.5]\n",
      "Iteration 191 done!\n"
     ]
    },
    {
     "name": "stderr",
     "output_type": "stream",
     "text": [
      " 96%|█████████▋| 193/200 [1:37:45<03:01, 25.87s/it]"
     ]
    },
    {
     "name": "stdout",
     "output_type": "stream",
     "text": [
      "[0.03213427061171206, 0.4764779238721837, 0.5, 0.31772338573567066, 0.47599197808569516]\n",
      "Iteration 192 done!\n",
      "0.0\n"
     ]
    },
    {
     "name": "stderr",
     "output_type": "stream",
     "text": [
      " 97%|█████████▋| 194/200 [1:38:10<02:33, 25.53s/it]"
     ]
    },
    {
     "name": "stdout",
     "output_type": "stream",
     "text": [
      "[0.01, 0.42264097288801705, 0.5, 0.31518181984643195, 0.5]\n",
      "Iteration 193 done!\n"
     ]
    },
    {
     "name": "stderr",
     "output_type": "stream",
     "text": [
      " 98%|█████████▊| 195/200 [1:38:39<02:13, 26.76s/it]"
     ]
    },
    {
     "name": "stdout",
     "output_type": "stream",
     "text": [
      "[0.06370556528465068, 0.488416270261248, 0.4863510920689935, 0.40560894470049924, 0.46815528408070345]\n",
      "Iteration 194 done!\n"
     ]
    },
    {
     "name": "stderr",
     "output_type": "stream",
     "text": [
      " 98%|█████████▊| 196/200 [1:39:03<01:42, 25.74s/it]"
     ]
    },
    {
     "name": "stdout",
     "output_type": "stream",
     "text": [
      "[0.07327181603368567, 0.4984768498118339, 0.5, 0.3815267964899483, 0.4210788615522092]\n",
      "Iteration 195 done!\n"
     ]
    },
    {
     "name": "stderr",
     "output_type": "stream",
     "text": [
      " 98%|█████████▊| 197/200 [1:39:27<01:15, 25.22s/it]"
     ]
    },
    {
     "name": "stdout",
     "output_type": "stream",
     "text": [
      "[0.1499280762926582, 0.5, 0.5, 0.3559549321516255, 0.4347173686746226]\n",
      "Iteration 196 done!\n",
      "0.0\n"
     ]
    },
    {
     "name": "stderr",
     "output_type": "stream",
     "text": [
      " 99%|█████████▉| 198/200 [1:39:51<00:49, 24.98s/it]"
     ]
    },
    {
     "name": "stdout",
     "output_type": "stream",
     "text": [
      "[0.15082260332778286, 0.5, 0.5, 0.33883253720665063, 0.4784189483177864]\n",
      "Iteration 197 done!\n"
     ]
    },
    {
     "name": "stderr",
     "output_type": "stream",
     "text": [
      "100%|█████████▉| 199/200 [1:40:15<00:24, 24.76s/it]"
     ]
    },
    {
     "name": "stdout",
     "output_type": "stream",
     "text": [
      "[0.09033221160381824, 0.46218160914746437, 0.47935496083621537, 0.4150784291387525, 0.4933582138997428]\n",
      "Iteration 198 done!\n"
     ]
    },
    {
     "name": "stderr",
     "output_type": "stream",
     "text": [
      "100%|██████████| 200/200 [1:40:42<00:00, 30.21s/it]"
     ]
    },
    {
     "name": "stdout",
     "output_type": "stream",
     "text": [
      "[0.019479171399902268, 0.4503342141010094, 0.4504216266548819, 0.4674454179670128, 0.5]\n",
      "Iteration 199 done!\n"
     ]
    },
    {
     "name": "stderr",
     "output_type": "stream",
     "text": [
      "\n"
     ]
    }
   ],
   "source": [
    "logs, trained_machines = run_cluster_experiment(hps=['entropy_coef'])\n",
    "\n",
    "# df.plot(x='num_frames', y=['reward', 'smooth_reward'])"
   ]
  },
  {
   "cell_type": "code",
   "execution_count": 43,
   "metadata": {},
   "outputs": [
    {
     "ename": "IndexError",
     "evalue": "list index out of range",
     "output_type": "error",
     "traceback": [
      "\u001b[0;31m---------------------------------------------------------------------------\u001b[0m",
      "\u001b[0;31mIndexError\u001b[0m                                Traceback (most recent call last)",
      "\u001b[0;32m/var/folders/8m/r3kmm3xs1lngf9bhwg216mlc0000gn/T/ipykernel_41554/3657248195.py\u001b[0m in \u001b[0;36m<module>\u001b[0;34m\u001b[0m\n\u001b[1;32m      3\u001b[0m \u001b[0mplt\u001b[0m\u001b[0;34m.\u001b[0m\u001b[0mplot\u001b[0m\u001b[0;34m(\u001b[0m\u001b[0mlogs\u001b[0m\u001b[0;34m[\u001b[0m\u001b[0;36m3\u001b[0m\u001b[0;34m]\u001b[0m\u001b[0;34m)\u001b[0m\u001b[0;34m\u001b[0m\u001b[0;34m\u001b[0m\u001b[0m\n\u001b[1;32m      4\u001b[0m \u001b[0mplt\u001b[0m\u001b[0;34m.\u001b[0m\u001b[0mplot\u001b[0m\u001b[0;34m(\u001b[0m\u001b[0mlogs\u001b[0m\u001b[0;34m[\u001b[0m\u001b[0;36m4\u001b[0m\u001b[0;34m]\u001b[0m\u001b[0;34m)\u001b[0m\u001b[0;34m\u001b[0m\u001b[0;34m\u001b[0m\u001b[0m\n\u001b[0;32m----> 5\u001b[0;31m \u001b[0mplt\u001b[0m\u001b[0;34m.\u001b[0m\u001b[0mplot\u001b[0m\u001b[0;34m(\u001b[0m\u001b[0mlogs\u001b[0m\u001b[0;34m[\u001b[0m\u001b[0;36m5\u001b[0m\u001b[0;34m]\u001b[0m\u001b[0;34m)\u001b[0m\u001b[0;34m\u001b[0m\u001b[0;34m\u001b[0m\u001b[0m\n\u001b[0m",
      "\u001b[0;31mIndexError\u001b[0m: list index out of range"
     ]
    },
    {
     "data": {
      "image/png": "[encoded data removed]",
      "text/plain": [
       "<Figure size 640x480 with 1 Axes>"
      ]
     },
     "metadata": {},
     "output_type": "display_data"
    }
   ],
   "source": [
    "plt.plot(logs[1])\n",
    "plt.plot(logs[2])\n",
    "plt.plot(logs[3])\n",
    "plt.plot(logs[4])\n",
    "plt.plot(logs[5])"
   ]
  },
  {
   "cell_type": "code",
   "execution_count": 7,
   "metadata": {},
   "outputs": [
    {
     "ename": "NameError",
     "evalue": "name 'registry' is not defined",
     "output_type": "error",
     "traceback": [
      "\u001b[0;31m---------------------------------------------------------------------------\u001b[0m",
      "\u001b[0;31mNameError\u001b[0m                                 Traceback (most recent call last)",
      "Cell \u001b[0;32mIn[7], line 372\u001b[0m\n\u001b[1;32m    366\u001b[0m         \u001b[38;5;28;01mreturn\u001b[39;00m gym\u001b[38;5;241m.\u001b[39mspaces\u001b[38;5;241m.\u001b[39mBox(\n\u001b[1;32m    367\u001b[0m             low\u001b[38;5;241m=\u001b[39m np\u001b[38;5;241m.\u001b[39marray([\u001b[38;5;241m-\u001b[39mnp\u001b[38;5;241m.\u001b[39minf, \u001b[38;5;241m-\u001b[39mnp\u001b[38;5;241m.\u001b[39minf, \u001b[38;5;241m-\u001b[39mnp\u001b[38;5;241m.\u001b[39minf, \u001b[38;5;241m-\u001b[39mnp\u001b[38;5;241m.\u001b[39minf]),\n\u001b[1;32m    368\u001b[0m             high\u001b[38;5;241m=\u001b[39mnp\u001b[38;5;241m.\u001b[39marray([np\u001b[38;5;241m.\u001b[39minf,   np\u001b[38;5;241m.\u001b[39minf,  np\u001b[38;5;241m.\u001b[39minf,  np\u001b[38;5;241m.\u001b[39minf])\n\u001b[1;32m    369\u001b[0m         )\n\u001b[1;32m    371\u001b[0m env_name \u001b[38;5;241m=\u001b[39m \u001b[38;5;124m'\u001b[39m\u001b[38;5;124mCartpoleSwingUp-v0\u001b[39m\u001b[38;5;124m'\u001b[39m\n\u001b[0;32m--> 372\u001b[0m \u001b[38;5;28;01mif\u001b[39;00m env_name \u001b[38;5;129;01min\u001b[39;00m \u001b[43mregistry\u001b[49m\u001b[38;5;241m.\u001b[39menv_specs:\n\u001b[1;32m    373\u001b[0m     \u001b[38;5;28;01mdel\u001b[39;00m registry\u001b[38;5;241m.\u001b[39menv_specs[env_name]\n\u001b[1;32m    374\u001b[0m register(\n\u001b[1;32m    375\u001b[0m     \u001b[38;5;28mid\u001b[39m\u001b[38;5;241m=\u001b[39menv_name,\n\u001b[1;32m    376\u001b[0m     entry_point\u001b[38;5;241m=\u001b[39m\u001b[38;5;124mf\u001b[39m\u001b[38;5;124m'\u001b[39m\u001b[38;5;132;01m{\u001b[39;00m\u001b[38;5;18m__name__\u001b[39m\u001b[38;5;132;01m}\u001b[39;00m\u001b[38;5;124m:CartpoleGym\u001b[39m\u001b[38;5;124m'\u001b[39m,\n\u001b[1;32m    377\u001b[0m )\n",
      "\u001b[0;31mNameError\u001b[0m: name 'registry' is not defined"
     ]
    }
   ],
   "source": [
    "class CartpoleDynamics:\n",
    "    def __init__(self,\n",
    "                 timestep=0.02,\n",
    "                 m_p=0.5,\n",
    "                 m_c=0.5,\n",
    "                 l=0.6,\n",
    "                 g=-9.81,\n",
    "                 u_range=15):\n",
    "        \"\"\"\n",
    "        Initializes the Cartpole Dynamics model with given parameters.\n",
    "\n",
    "        Parameters:\n",
    "        - timestep (float): The time step for the simulation.\n",
    "        - m_p (float): Mass of the pole.\n",
    "        - m_c (float): Mass of the cart.\n",
    "        - l (float): Length of the pole.\n",
    "        - g (float): Acceleration due to gravity. Negative values indicate direction.\n",
    "        - u_range (float): Range of the control input.\n",
    "        \"\"\"\n",
    "\n",
    "        self.m_p  = m_p\n",
    "        self.m_c  = m_c\n",
    "        self.l    = l\n",
    "        self.g    = -g\n",
    "        self.dt   = timestep\n",
    "\n",
    "        self.u_range = u_range\n",
    "\n",
    "        self.u_lb = torch.tensor([-1]).float()\n",
    "        self.u_ub = torch.tensor([1]).float()\n",
    "        self.q_shape = 4\n",
    "        self.u_shape = 1\n",
    "\n",
    "    def _qdotdot(self, q, u):\n",
    "        \"\"\"\n",
    "        Calculates the acceleration of both cart and pole as a function of the current state and control input.\n",
    "\n",
    "        Parameters:\n",
    "        - q (torch.Tensor): The current state of the system, [x, theta, xdot, thetadot].\n",
    "        - u (torch.Tensor): The current control input.\n",
    "\n",
    "        Returns:\n",
    "        - torch.Tensor: Accelerations [x_dotdot, theta_dotdot] of the cart and the pole.\n",
    "        \"\"\"\n",
    "        x, theta, xdot, thetadot = q.T\n",
    "\n",
    "        if len(u.shape) == 2:\n",
    "            u = torch.flatten(u)\n",
    "\n",
    "        x_dotdot = (\n",
    "            u + self.m_p * torch.sin(theta) * (\n",
    "                self.l * torch.pow(thetadot,2) + self.g * torch.cos(theta)\n",
    "            )\n",
    "        ) / (self.m_c + self.m_p * torch.sin(theta)**2)\n",
    "\n",
    "        theta_dotdot = (\n",
    "            -u*torch.cos(theta) -\n",
    "            self.m_p * self.l * torch.pow(thetadot,2) * torch.cos(theta) * torch.sin(theta) -\n",
    "            (self.m_c + self.m_p) * self.g * torch.sin(theta)\n",
    "        ) / (self.l * (self.m_c + self.m_p * torch.sin(theta)**2))\n",
    "\n",
    "        return torch.stack((x_dotdot, theta_dotdot), dim=-1)\n",
    "\n",
    "    def _euler_int(self, q, qdotdot):\n",
    "        \"\"\"\n",
    "        Performs Euler integration to calculate the new state given the current state and accelerations.\n",
    "\n",
    "        Parameters:\n",
    "        - q (torch.Tensor): The current state of the system, [x, theta, xdot, thetadot].\n",
    "        - qdotdot (torch.Tensor): The accelerations [x_dotdot, theta_dotdot] of the cart and the pole.\n",
    "\n",
    "        Returns:\n",
    "        - torch.Tensor: The new state of the system after a single time step.\n",
    "        \"\"\"\n",
    "\n",
    "        qdot_new = q[...,2:] + qdotdot * self.dt\n",
    "        q_new = q[...,:2] + self.dt * qdot_new\n",
    "\n",
    "        return torch.cat((q_new, qdot_new), dim=-1)\n",
    "\n",
    "    def step(self, q, u):\n",
    "        \"\"\"\n",
    "        Performs a single step of simulation given the current state and control input.\n",
    "\n",
    "        Parameters:\n",
    "        - q (torch.Tensor or np.ndarray): The current state of the system.\n",
    "        - u (torch.Tensor or np.ndarray): The current control input.\n",
    "\n",
    "        Returns:\n",
    "        - torch.Tensor: The new state of the system after the step.\n",
    "        \"\"\"\n",
    "\n",
    "        # Check for numpy array\n",
    "        if isinstance(q, np.ndarray):\n",
    "            q = torch.from_numpy(q)\n",
    "        if isinstance(u, np.ndarray):\n",
    "            u = torch.from_numpy(u)\n",
    "\n",
    "        scaled_u = u * float(self.u_range)\n",
    "\n",
    "        # Check for shape issues\n",
    "        if len(q.shape) == 2:\n",
    "            q_dotdot = self._qdotdot(q, scaled_u)\n",
    "        elif len(q.shape) == 1:\n",
    "            q_dotdot = self._qdotdot(q.reshape(1,-1), scaled_u)\n",
    "        else:\n",
    "            raise RuntimeError('Invalid q shape')\n",
    "\n",
    "        new_q = self._euler_int(q, q_dotdot)\n",
    "\n",
    "        if len(q.shape) == 1:\n",
    "            new_q = new_q[0]\n",
    "\n",
    "        return new_q\n",
    "\n",
    "    # given q [bs, q_shape] and u [bs, t, u_shape] run the trajectories\n",
    "    def run_batch_of_trajectories(self, q, u):\n",
    "        \"\"\"\n",
    "        Simulates a batch of trajectories given initial states and control inputs over time.\n",
    "\n",
    "        Parameters:\n",
    "        - q (torch.Tensor): Initial states for each trajectory in the batch.\n",
    "        - u (torch.Tensor): Control inputs for each trajectory over time.\n",
    "\n",
    "        Returns:\n",
    "        - torch.Tensor: The states of the system at each time step for each trajectory.\n",
    "        \"\"\"\n",
    "        qs = [q]\n",
    "\n",
    "        for t in range(u.shape[1]):\n",
    "            qs.append(self.step(qs[-1], u[:,t]))\n",
    "\n",
    "        return torch.stack(qs, dim=1)\n",
    "\n",
    "    # given q [bs, t, q_shape] and u [bs, t, u_shape] calculate the rewards\n",
    "    def reward(self, q, u):\n",
    "        \"\"\"\n",
    "        Calculates the reward for given states and control inputs.\n",
    "\n",
    "        Parameters:\n",
    "        - q (torch.Tensor or np.ndarray): States of the system.\n",
    "        - u (torch.Tensor or np.ndarray): Control inputs applied.\n",
    "\n",
    "        Returns:\n",
    "        - torch.Tensor: The calculated rewards for the states and inputs.\n",
    "        \"\"\"\n",
    "\n",
    "        if isinstance(q, np.ndarray):\n",
    "            q = torch.from_numpy(q)\n",
    "        if isinstance(u, np.ndarray):\n",
    "            u = torch.from_numpy(u)\n",
    "\n",
    "        angle_term = 0.5*(1-torch.cos(q[...,1]))\n",
    "        pos_term = -0.5*torch.pow(q[...,0],2)\n",
    "        ctrl_cost = -0.001*(u**2).sum(dim=-1)\n",
    "\n",
    "        return angle_term + pos_term + ctrl_cost\n",
    "\n",
    "class CartpoleGym(gym.Env):\n",
    "    def __init__(self, timestep_limit=200):\n",
    "        \"\"\"\n",
    "        Initializes the Cartpole environment with a specified time step limit.\n",
    "\n",
    "        Parameters:\n",
    "        - timestep_limit (int): The maximum number of timesteps for each episode.\n",
    "\n",
    "        Sets up the dynamics model and initializes the simulation state.\n",
    "        \"\"\"\n",
    "        self.dynamics = CartpoleDynamics()\n",
    "\n",
    "        self.timestep_limit = timestep_limit\n",
    "        self.reset()\n",
    "\n",
    "    def reset(self):\n",
    "        \"\"\"\n",
    "        Resets the environment to the initial state.\n",
    "\n",
    "        Returns:\n",
    "        - np.ndarray: The initial state of the environment.\n",
    "        \"\"\"\n",
    "\n",
    "        self.q_sim = np.zeros(4)\n",
    "        self.timesteps = 0\n",
    "\n",
    "        self.traj = [self.get_observation()]\n",
    "\n",
    "        return self.traj[-1]\n",
    "\n",
    "    def get_observation(self):\n",
    "        \"\"\"\n",
    "        Retrieves the current state of the environment.\n",
    "\n",
    "        Returns:\n",
    "        - np.ndarray: The current state of the simulation.\n",
    "        \"\"\"\n",
    "\n",
    "        return self.q_sim\n",
    "\n",
    "    def step(self, action):\n",
    "        \"\"\"\n",
    "        Executes one time step within the environment using the given action.\n",
    "\n",
    "        Parameters:\n",
    "        - action (np.ndarray): The action to apply for this timestep.\n",
    "\n",
    "        Returns:\n",
    "        - Tuple[np.ndarray, float, bool, dict]: A tuple containing the new state, the reward received,\n",
    "          a boolean indicating whether the episode is done, and an info dictionary.\n",
    "        \"\"\"\n",
    "        action = np.clip(action, self.action_space.low, self.action_space.high)[0]\n",
    "\n",
    "        new_q = self.dynamics.step(\n",
    "            self.q_sim, action\n",
    "        )\n",
    "\n",
    "        if not isinstance(action, torch.Tensor):\n",
    "            action = torch.tensor(action)\n",
    "\n",
    "        reward = self.dynamics.reward(\n",
    "            new_q, action\n",
    "        ).numpy()\n",
    "\n",
    "        self.q_sim = new_q.numpy()\n",
    "        done = self.is_done()\n",
    "\n",
    "        self.timesteps += 1\n",
    "\n",
    "        self.traj.append(self.q_sim)\n",
    "\n",
    "        return self.q_sim, reward, done, {}\n",
    "\n",
    "    def is_done(self):\n",
    "        \"\"\"\n",
    "        Checks if the episode has finished based on the timestep limit.\n",
    "\n",
    "        Returns:\n",
    "        - bool: True if the episode is finished, False otherwise.\n",
    "        \"\"\"\n",
    "        # Kill trial when too much time has passed\n",
    "        if self.timesteps >= self.timestep_limit:\n",
    "            return True\n",
    "\n",
    "        return False\n",
    "\n",
    "    def plot_func(self, to_plot, i=None):\n",
    "        \"\"\"\n",
    "        Plots the current state of the cartpole system for visualization.\n",
    "\n",
    "        Parameters:\n",
    "        - to_plot (matplotlib.axes.Axes or dict): Axes for plotting or a dictionary of plot elements to update.\n",
    "        - i (int, optional): The index of the current state in the trajectory to plot.\n",
    "        \"\"\"\n",
    "        def _square(center_x, center_y, shape, angle):\n",
    "            trans_points = np.array([\n",
    "                [shape[0], shape[1]],\n",
    "                [-shape[0], shape[1]],\n",
    "                [-shape[0], -shape[1]],\n",
    "                [shape[0], -shape[1]],\n",
    "                [shape[0], shape[1]]\n",
    "            ]) @ np.array([\n",
    "                [np.cos(angle), np.sin(angle)],\n",
    "                [-np.sin(angle), np.cos(angle)]\n",
    "            ]) + np.array([center_x, center_y])\n",
    "\n",
    "            return trans_points[:, 0], trans_points[:, 1]\n",
    "\n",
    "        if isinstance(to_plot, Axes):\n",
    "            imgs = dict(\n",
    "                cart=to_plot.plot([], [], c=\"k\")[0],\n",
    "                pole=to_plot.plot([], [], c=\"k\", linewidth=5)[0],\n",
    "                center=to_plot.plot([], [], marker=\"o\", c=\"k\",\n",
    "                                          markersize=10)[0]\n",
    "            )\n",
    "\n",
    "            x_width = max(1,max(np.abs(t[0]) for t in self.traj) * 1.3)\n",
    "\n",
    "            # centerline\n",
    "            to_plot.plot(np.linspace(-x_width, x_width, num=50), np.zeros(50),\n",
    "                         c=\"k\", linestyle=\"dashed\")\n",
    "\n",
    "            # set axis\n",
    "            to_plot.set_xlim([-x_width, x_width])\n",
    "            to_plot.set_ylim([-self.dynamics.l*1.2, self.dynamics.l*1.2])\n",
    "\n",
    "            return imgs\n",
    "\n",
    "        curr_x = self.traj[i]\n",
    "\n",
    "        cart_size = (0.15, 0.1)\n",
    "\n",
    "        cart_x, cart_y = _square(curr_x[0], 0.,\n",
    "                                cart_size, 0.)\n",
    "\n",
    "        pole_x = np.array([curr_x[0], curr_x[0] + self.dynamics.l\n",
    "                           * np.cos(curr_x[1]-np.pi/2)])\n",
    "        pole_y = np.array([0., self.dynamics.l\n",
    "                           * np.sin(curr_x[1]-np.pi/2)])\n",
    "\n",
    "        to_plot[\"cart\"].set_data(cart_x, cart_y)\n",
    "        to_plot[\"pole\"].set_data(pole_x, pole_y)\n",
    "        to_plot[\"center\"].set_data(self.traj[i][0], 0.)\n",
    "\n",
    "    def render(self, mode=\"human\"):\n",
    "        \"\"\"\n",
    "        Renders the current state of the environment using a matplotlib animation.\n",
    "\n",
    "        This function creates a matplotlib figure and uses the plot_func method to update the figure with the current\n",
    "        state of the cartpole system at each timestep. The animation is created with the FuncAnimation class and is\n",
    "        configured to play at a specified frame rate.\n",
    "\n",
    "        Parameters:\n",
    "        - mode (str): The mode for rendering. Currently, only \"human\" mode is supported, which displays the animation\n",
    "          on screen.\n",
    "\n",
    "        Returns:\n",
    "        - matplotlib.animation.FuncAnimation: The animation object that can be displayed in a Jupyter notebook or\n",
    "          saved to file.\n",
    "        \"\"\"\n",
    "        self.anim_fig = plt.figure()\n",
    "\n",
    "        self.axis = self.anim_fig.add_subplot(111)\n",
    "        self.axis.set_aspect('equal', adjustable='box')\n",
    "\n",
    "        imgs = self.plot_func(self.axis)\n",
    "        _update_img = lambda i: self.plot_func(imgs, i)\n",
    "\n",
    "        Writer = animation.writers['ffmpeg']\n",
    "        writer = Writer(fps=15, metadata=dict(artist='Me'), bitrate=1800)\n",
    "\n",
    "        ani = FuncAnimation(\n",
    "            self.anim_fig, _update_img, interval=self.dynamics.dt*1000,\n",
    "            frames=len(self.traj)-1\n",
    "        )\n",
    "\n",
    "        plt.close()\n",
    "\n",
    "        return ani\n",
    "\n",
    "    @property\n",
    "    def action_space(self):\n",
    "        \"\"\"\n",
    "        Defines the action space of the environment using a Box space from OpenAI Gym.\n",
    "\n",
    "        The action space is defined based on the lower and upper bounds for the control input specified in the\n",
    "        dynamics model. This allows for a continuous range of actions that can be applied to the cartpole system.\n",
    "\n",
    "        Returns:\n",
    "        - gym.spaces.Box: The action space as a Box object, with low and high bounds derived from the dynamics model's\n",
    "          control input bounds.\n",
    "        \"\"\"\n",
    "        return gym.spaces.Box(low=self.dynamics.u_lb.numpy(), high=self.dynamics.u_ub.numpy())\n",
    "\n",
    "    @property\n",
    "    def observation_space(self):\n",
    "        \"\"\"\n",
    "        Defines the observation space of the environment using a Box space from OpenAI Gym.\n",
    "\n",
    "        The observation space is defined with no bounds on the values, representing the position and velocity of the\n",
    "        cart and the angle and angular velocity of the pole. This space allows for any real-valued vector of\n",
    "        positions and velocities to be a valid observation in the environment.\n",
    "\n",
    "        Returns:\n",
    "        - gym.spaces.Box: The observation space as a Box object, with low and high bounds set to negative and\n",
    "          positive infinity, respectively, for each dimension of the state vector.\n",
    "        \"\"\"\n",
    "        return gym.spaces.Box(\n",
    "            low= np.array([-np.inf, -np.inf, -np.inf, -np.inf]),\n",
    "            high=np.array([np.inf,   np.inf,  np.inf,  np.inf])\n",
    "        )\n",
    "\n",
    "env_name = 'CartpoleSwingUp-v0'\n",
    "if env_name in registry.env_specs:\n",
    "    del registry.env_specs[env_name]\n",
    "register(\n",
    "    id=env_name,\n",
    "    entry_point=f'{__name__}:CartpoleGym',\n",
    ")\n"
   ]
  },
  {
   "cell_type": "code",
   "execution_count": 6,
   "metadata": {},
   "outputs": [
    {
     "ename": "NameNotFound",
     "evalue": "Environment CartpoleSwingUp doesn't exist. Did you mean: `CartPole`?",
     "output_type": "error",
     "traceback": [
      "\u001b[0;31m---------------------------------------------------------------------------\u001b[0m",
      "\u001b[0;31mNameNotFound\u001b[0m                              Traceback (most recent call last)",
      "Cell \u001b[0;32mIn[6], line 1\u001b[0m\n\u001b[0;32m----> 1\u001b[0m env \u001b[38;5;241m=\u001b[39m \u001b[43mgym\u001b[49m\u001b[38;5;241;43m.\u001b[39;49m\u001b[43mmake\u001b[49m\u001b[43m(\u001b[49m\u001b[38;5;124;43m'\u001b[39;49m\u001b[38;5;124;43mCartpoleSwingUp-v0\u001b[39;49m\u001b[38;5;124;43m'\u001b[39;49m\u001b[43m)\u001b[49m\n\u001b[1;32m      3\u001b[0m q \u001b[38;5;241m=\u001b[39m env\u001b[38;5;241m.\u001b[39mreset()\n\u001b[1;32m      4\u001b[0m done \u001b[38;5;241m=\u001b[39m \u001b[38;5;28;01mFalse\u001b[39;00m\n",
      "File \u001b[0;32m~/miniconda3/envs/rl/lib/python3.11/site-packages/gym/envs/registration.py:569\u001b[0m, in \u001b[0;36mmake\u001b[0;34m(id, max_episode_steps, autoreset, apply_api_compatibility, disable_env_checker, **kwargs)\u001b[0m\n\u001b[1;32m    563\u001b[0m         logger\u001b[38;5;241m.\u001b[39mwarn(\n\u001b[1;32m    564\u001b[0m             \u001b[38;5;124mf\u001b[39m\u001b[38;5;124m\"\u001b[39m\u001b[38;5;124mUsing the latest versioned environment `\u001b[39m\u001b[38;5;132;01m{\u001b[39;00mnew_env_id\u001b[38;5;132;01m}\u001b[39;00m\u001b[38;5;124m` \u001b[39m\u001b[38;5;124m\"\u001b[39m\n\u001b[1;32m    565\u001b[0m             \u001b[38;5;124mf\u001b[39m\u001b[38;5;124m\"\u001b[39m\u001b[38;5;124minstead of the unversioned environment `\u001b[39m\u001b[38;5;132;01m{\u001b[39;00m\u001b[38;5;28mid\u001b[39m\u001b[38;5;132;01m}\u001b[39;00m\u001b[38;5;124m`.\u001b[39m\u001b[38;5;124m\"\u001b[39m\n\u001b[1;32m    566\u001b[0m         )\n\u001b[1;32m    568\u001b[0m     \u001b[38;5;28;01mif\u001b[39;00m spec_ \u001b[38;5;129;01mis\u001b[39;00m \u001b[38;5;28;01mNone\u001b[39;00m:\n\u001b[0;32m--> 569\u001b[0m         \u001b[43m_check_version_exists\u001b[49m\u001b[43m(\u001b[49m\u001b[43mns\u001b[49m\u001b[43m,\u001b[49m\u001b[43m \u001b[49m\u001b[43mname\u001b[49m\u001b[43m,\u001b[49m\u001b[43m \u001b[49m\u001b[43mversion\u001b[49m\u001b[43m)\u001b[49m\n\u001b[1;32m    570\u001b[0m         \u001b[38;5;28;01mraise\u001b[39;00m error\u001b[38;5;241m.\u001b[39mError(\u001b[38;5;124mf\u001b[39m\u001b[38;5;124m\"\u001b[39m\u001b[38;5;124mNo registered env with id: \u001b[39m\u001b[38;5;132;01m{\u001b[39;00m\u001b[38;5;28mid\u001b[39m\u001b[38;5;132;01m}\u001b[39;00m\u001b[38;5;124m\"\u001b[39m)\n\u001b[1;32m    572\u001b[0m _kwargs \u001b[38;5;241m=\u001b[39m spec_\u001b[38;5;241m.\u001b[39mkwargs\u001b[38;5;241m.\u001b[39mcopy()\n",
      "File \u001b[0;32m~/miniconda3/envs/rl/lib/python3.11/site-packages/gym/envs/registration.py:219\u001b[0m, in \u001b[0;36m_check_version_exists\u001b[0;34m(ns, name, version)\u001b[0m\n\u001b[1;32m    216\u001b[0m \u001b[38;5;28;01mif\u001b[39;00m get_env_id(ns, name, version) \u001b[38;5;129;01min\u001b[39;00m registry:\n\u001b[1;32m    217\u001b[0m     \u001b[38;5;28;01mreturn\u001b[39;00m\n\u001b[0;32m--> 219\u001b[0m \u001b[43m_check_name_exists\u001b[49m\u001b[43m(\u001b[49m\u001b[43mns\u001b[49m\u001b[43m,\u001b[49m\u001b[43m \u001b[49m\u001b[43mname\u001b[49m\u001b[43m)\u001b[49m\n\u001b[1;32m    220\u001b[0m \u001b[38;5;28;01mif\u001b[39;00m version \u001b[38;5;129;01mis\u001b[39;00m \u001b[38;5;28;01mNone\u001b[39;00m:\n\u001b[1;32m    221\u001b[0m     \u001b[38;5;28;01mreturn\u001b[39;00m\n",
      "File \u001b[0;32m~/miniconda3/envs/rl/lib/python3.11/site-packages/gym/envs/registration.py:197\u001b[0m, in \u001b[0;36m_check_name_exists\u001b[0;34m(ns, name)\u001b[0m\n\u001b[1;32m    194\u001b[0m namespace_msg \u001b[38;5;241m=\u001b[39m \u001b[38;5;124mf\u001b[39m\u001b[38;5;124m\"\u001b[39m\u001b[38;5;124m in namespace \u001b[39m\u001b[38;5;132;01m{\u001b[39;00mns\u001b[38;5;132;01m}\u001b[39;00m\u001b[38;5;124m\"\u001b[39m \u001b[38;5;28;01mif\u001b[39;00m ns \u001b[38;5;28;01melse\u001b[39;00m \u001b[38;5;124m\"\u001b[39m\u001b[38;5;124m\"\u001b[39m\n\u001b[1;32m    195\u001b[0m suggestion_msg \u001b[38;5;241m=\u001b[39m \u001b[38;5;124mf\u001b[39m\u001b[38;5;124m\"\u001b[39m\u001b[38;5;124mDid you mean: `\u001b[39m\u001b[38;5;132;01m{\u001b[39;00msuggestion[\u001b[38;5;241m0\u001b[39m]\u001b[38;5;132;01m}\u001b[39;00m\u001b[38;5;124m`?\u001b[39m\u001b[38;5;124m\"\u001b[39m \u001b[38;5;28;01mif\u001b[39;00m suggestion \u001b[38;5;28;01melse\u001b[39;00m \u001b[38;5;124m\"\u001b[39m\u001b[38;5;124m\"\u001b[39m\n\u001b[0;32m--> 197\u001b[0m \u001b[38;5;28;01mraise\u001b[39;00m error\u001b[38;5;241m.\u001b[39mNameNotFound(\n\u001b[1;32m    198\u001b[0m     \u001b[38;5;124mf\u001b[39m\u001b[38;5;124m\"\u001b[39m\u001b[38;5;124mEnvironment \u001b[39m\u001b[38;5;132;01m{\u001b[39;00mname\u001b[38;5;132;01m}\u001b[39;00m\u001b[38;5;124m doesn\u001b[39m\u001b[38;5;124m'\u001b[39m\u001b[38;5;124mt exist\u001b[39m\u001b[38;5;132;01m{\u001b[39;00mnamespace_msg\u001b[38;5;132;01m}\u001b[39;00m\u001b[38;5;124m. \u001b[39m\u001b[38;5;132;01m{\u001b[39;00msuggestion_msg\u001b[38;5;132;01m}\u001b[39;00m\u001b[38;5;124m\"\u001b[39m\n\u001b[1;32m    199\u001b[0m )\n",
      "\u001b[0;31mNameNotFound\u001b[0m: Environment CartpoleSwingUp doesn't exist. Did you mean: `CartPole`?"
     ]
    }
   ],
   "source": [
    "env = gym.make('CartpoleSwingUp-v0')\n",
    "\n",
    "q = env.reset()\n",
    "done = False\n",
    "while not done:\n",
    "    q, r, done, _ = env.step(env.action_space.sample())\n",
    "\n",
    "env.render()"
   ]
  }
 ],
 "metadata": {
  "kernelspec": {
   "display_name": "leg",
   "language": "python",
   "name": "python3"
  },
  "language_info": {
   "codemirror_mode": {
    "name": "ipython",
    "version": 3
   },
   "file_extension": ".py",
   "mimetype": "text/x-python",
   "name": "python",
   "nbconvert_exporter": "python",
   "pygments_lexer": "ipython3",
   "version": "3.9.7"
  }
 },
 "nbformat": 4,
 "nbformat_minor": 2
}
